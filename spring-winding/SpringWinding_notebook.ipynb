{
 "cells": [
  {
   "cell_type": "markdown",
   "id": "24a650c5-6477-42cc-957a-39012abf45ed",
   "metadata": {},
   "source": [
    "# Spring Winding Lab\n",
    "\n",
    "**Objective:** become familiar with a basic wire forming process as well as part to part variation in manufacturing by designing and manufacturing a number of springs to meet predefined objectives.\n",
    "\n",
    "**Method:** design springs following the procedure below, manufacture multiples of the same spring design, investigate part to part variability by testing the stiffness of the springs and calculating basic statistical parameters.\n",
    "\n",
    "**Note:** refer to the lab manual that is posted on Canvas for this lab activity. If there are discrepancies between this notebook and the lab manual, defer to the lab manual.\n",
    "\n",
    "**Hint:** use this notebook as a starting point and edit/modify as you see fit. Review the whole sheet before you get started, there is a little hint at the end that might be useful. "
   ]
  },
  {
   "attachments": {},
   "cell_type": "markdown",
   "id": "40e9cf33-145a-421b-9da8-a6b6704a9139",
   "metadata": {},
   "source": [
    "### Safety, Material and Equipment\n",
    "\n",
    "Safety glasses are extremely important in this lab due the use of sharp wire.\n",
    "\n",
    "Hazards include: \n",
    "Sharp wire <br>\n",
    "Wire offcut projectiles <br>\n",
    "Wire cutting tool <br>\n",
    "Pinch hazard between wire and mandrel <br>\n",
    "\n",
    "```{figure} SpringTools.png\n",
    "---\n",
    "height: 300px\n",
    "name: SpringTools\n",
    "---\n",
    "Tools and materials used in the lab\n",
    "\n",
    "```{figure} SpringEquipment.png\n",
    "---\n",
    "height: 250px\n",
    "name: SpringEquipment\n",
    "---\n",
    "Equipment used in the lab\n"
   ]
  },
  {
   "cell_type": "markdown",
   "id": "ca1b6631-200e-410e-93fe-dd0a03b65837",
   "metadata": {},
   "source": [
    "## Spring Stiffness Calculations\n",
    "\n",
    "A spring's stiffness or 'rate', $k$ is defined as the amount of load to deflect the spring by a certain amount. This is typically reported at $N/m$ or $lb/in$. <br>\n",
    "\n",
    "Stiffness can be calculated with the following equation: <br>\n",
    "$k = \\frac{d^4G}{8D^3N_a}$ ...(1)<br>\n",
    "\n",
    "Where:<br>\n",
    "$d$ is the wire diameter ($m$ or more commonly $mm$)<br>\n",
    "$G$ is the shear modulus of the wire material ($Pa$ or more commonly $GPa$)<br>\n",
    "$D$ is the average spring diameter ($OD_{spring} - d$) ($m$ or more commonly $mm$)<br>\n",
    "$N_a$ is the number of active coils in the spring <br>\n",
    "<br>\n",
    "For our lab activity, we would like to calculate the number of active coils required to acheive a desired spring stiffness. We can rearrange (1) to get (2): <br>\n",
    "$N_a = \\frac{d^4G}{8D^3k}$ ...(2)<br>\n",
    "\n"
   ]
  },
  {
   "cell_type": "markdown",
   "id": "c7514417-9b4e-4c70-8062-d39a5f145c8e",
   "metadata": {},
   "source": [
    "## Follow the procedure below to complete the lab activity\n",
    "\n",
    "Choose an objective from one of the design scenarios below. Each member of your group will choose a different scenario.\n",
    "1) Calculate the desired spring stiffness.\n",
    "2) Calculate the number of active coils in the spring to acheive the desired stiffness.\n",
    "3) Make the spring you designed. Everyone in your group will also make the same spring.\n",
    "4) Measure the spring stiffness.\n",
    "5) Compare the variation in spring stiffness of all the springs made by you and your group members.\n",
    "6) Prepare and submit your lab report.\n",
    "\n",
    "The following mandrel sizes are available:\n",
    "12 $mm$\n",
    "18 $mm$\n",
    "25 $mm$\n",
    "\n",
    "The following wire gages are available:\n",
    "1 $mm$\n",
    "1.25 $mm$\n",
    "1.5 $mm$\n",
    "\n",
    "The wire material is 304 Stainless Steel.\n",
    "\n",
    "Be aware that the springs will 'spring back' or unwind slightly after they are wound around the mandrels. The table below shows experimental data of the resulting outside diameter of various gage/mandrel combinations. Use this as the starting point in your calculations.  \n",
    "\n",
    "| Gage/Mandrel | 12 mm | 18 mm | 25 mm |\n",
    "|-------------|-------|-------|-------|\n",
    "| 1 mm       | 17.1  | 31.2  | 52.4  |\n",
    "| 1.25 mm    | 15.8  | 27.8  | 43.7  |\n",
    "| 1.5 mm     | 15.4  | 25.8  | 41.5\n",
    "\n",
    "**Design Scenarios** <br>\n",
    "\n",
    "Each member in your group will select a different design scenario and design their own spring using the procedure below. <br>\n",
    "\n",
    "**Scenario #1:** \n",
    "You need a spring that will hold a piston in a 20 $mm$ diameter cylinder. The mass of the piston is 800 $g$ and it must deflect approximately 8 $mm$.\n",
    "\n",
    "**Scenario #2:**\n",
    "You need a spring that is as short as possible and will hold a mass of 300 $g$ and deflect no less than 100 $mm$.\n",
    "\n",
    "**Scenario #3** You need the stiffest spring possible with three or more active coils.\n",
    "\n",
    "**Scenario #4:** You need a spring that will hold 5 $kN$ with approximately 20 $mm$ of deflection using the smallest mandrel and wire gage.\n",
    "\n",
    "**Scenario #5:** You need a spring that will hold 5 $kN$ with approximately 20 $mm$ of deflection using the largest mandrel and wire gage.\n",
    "\n",
    "**Scenario #6:** \n",
    "You need the softest spring possible with five or less active coils. "
   ]
  },
  {
   "cell_type": "markdown",
   "id": "4b1fba62-686a-4770-a4ae-6fd015cae71c",
   "metadata": {},
   "source": [
    "### 0. Import packages and define variables"
   ]
  },
  {
   "cell_type": "code",
   "id": "363812cb1c2afae7",
   "metadata": {
    "ExecuteTime": {
     "end_time": "2025-02-23T01:33:52.089083Z",
     "start_time": "2025-02-23T01:33:50.301844Z"
    }
   },
   "source": [
    "#import packages\n",
    "\n",
    "import pandas as pd\n",
    "import numpy as np\n",
    "from numpy import pi\n",
    "import matplotlib.pyplot as plt"
   ],
   "outputs": [],
   "execution_count": 1
  },
  {
   "metadata": {
    "ExecuteTime": {
     "end_time": "2025-02-23T01:33:54.820835Z",
     "start_time": "2025-02-23T01:33:54.807870Z"
    }
   },
   "cell_type": "code",
   "source": [
    "#Define variables\n",
    "G = 70 * 1e9 #Pa (shear modulus of 304 stainless steel, note: G is typically reported in GPa)\n",
    "\n",
    "#refer to the table above for available wire gages\n",
    "d = 1.25 / 1000 #m, wire gage (diameter)\n",
    "\n",
    "#D is the result of a combination of wire gage and mandrel diameter, select select it from the table above\n",
    "D = (27.8 - d) / 1000 #m, average spring diameter, which is equal to the OD of the spring minus the wire diameter"
   ],
   "id": "4de19d1c-db1a-4477-b51d-221c778b6c17",
   "outputs": [],
   "execution_count": 2
  },
  {
   "cell_type": "markdown",
   "id": "3f228ea9-4763-4651-9d8d-d6eae66adbf6",
   "metadata": {},
   "source": [
    "### 1. Calculate the desired spring stiffness\n"
   ]
  },
  {
   "cell_type": "code",
   "id": "bc093d79-db5f-477f-a728-83f2d66c0a1b",
   "metadata": {
    "ExecuteTime": {
     "end_time": "2025-02-23T01:35:04.348029Z",
     "start_time": "2025-02-23T01:35:04.336097Z"
    }
   },
   "source": [
    "#Define variables\n",
    "F = (500 / 1000) * 9.81 #N, input the load/force the spring must exert\n",
    "s = 20 / 1000 #m, spring deflection, input the desired displacement of the spring under said load\n",
    "\n",
    "#Calculate spring stiffness\n",
    "k = F / s #N/m\n",
    "print('Spring stiffness =', round(k),' N/m')"
   ],
   "outputs": [
    {
     "name": "stdout",
     "output_type": "stream",
     "text": [
      "Spring stiffness = 245  N/m\n"
     ]
    }
   ],
   "execution_count": 3
  },
  {
   "cell_type": "markdown",
   "id": "5394f93b-1c3f-4478-91af-c6afc17eb249",
   "metadata": {},
   "source": [
    "### 2. Calculate the number of active coils"
   ]
  },
  {
   "cell_type": "code",
   "id": "856a9fff-bda1-49b1-b635-288cc8105316",
   "metadata": {
    "ExecuteTime": {
     "end_time": "2025-02-23T01:35:07.778964Z",
     "start_time": "2025-02-23T01:35:07.763194Z"
    }
   },
   "source": [
    "#Calculate the number of coils required to obtain desired spring stiffness\n",
    "\n",
    "Na = (d**4 * G) / (8 * D**3 * k)\n",
    "print('Na = ', round(Na, 1), 'turns')\n",
    "\n",
    "#NOTE: PLEASE KEEP THE NUMBER OF ACTIVE COILS BELOW EIGHT"
   ],
   "outputs": [
    {
     "name": "stdout",
     "output_type": "stream",
     "text": [
      "Na =  4.1 turns\n"
     ]
    }
   ],
   "execution_count": 4
  },
  {
   "cell_type": "markdown",
   "id": "2c2e199e-aafc-42ae-8729-3be6cdb27ae6",
   "metadata": {},
   "source": [
    "### 3. Make springs\n",
    "\n",
    "Now that you have a design, make your spring using the spring winding apparatus. This video will show you how to perform this task:\n",
    "https://youtu.be/x1HTJAbvkuo \n",
    "\n",
    "Each student is responsible for one spring design, for making and measuring that design, and for making and measuring each of their group member’s designs. For example, in a team of five students, each student will make five springs of different designs.\n",
    "\n",
    "```{figure} SpringWindingVideo.png\n",
    "---\n",
    "height: 150px\n",
    "name: SpringWindingVideo\n",
    "---\n",
    "Spring winding video QR code\n",
    "\n"
   ]
  },
  {
   "cell_type": "markdown",
   "id": "17412327-ec0c-4484-a12c-a5ef9b6bd16f",
   "metadata": {},
   "source": [
    "### 4. Measure spring stiffness"
   ]
  },
  {
   "cell_type": "code",
   "id": "9657cd5a-a626-4d14-95cf-03f90d38da6c",
   "metadata": {
    "ExecuteTime": {
     "end_time": "2025-02-23T01:35:17.432898Z",
     "start_time": "2025-02-23T01:35:16.445654Z"
    }
   },
   "source": [
    "# Spring stiffness measurement \n",
    "# Use this code to help analyze your spring stiffness data and calculate k\n",
    "\n",
    "# Define your spring name\n",
    "SpringName = 'Spring 1'\n",
    "\n",
    "# Create a dataframe to put measured data in\n",
    "# Specify column names\n",
    "columns = ['Load_(N)', 'Deflection_(m)']\n",
    "\n",
    "# Input the measured data in a two column array where the first column is load and the second is displacement\n",
    "# **NOTE: keep track of your units, in this example we are inputting g and mm then converting to N and m \n",
    "data = [\n",
    "    [0, 0],\n",
    "    [284 , 10.57],\n",
    "    [282.4 + 284, 18.57]\n",
    "]\n",
    "\n",
    "# Create DataFrame\n",
    "df = pd.DataFrame(data, columns=columns)\n",
    "\n",
    "# Convert mass to force\n",
    "df['Load_(N)'] = df['Load_(N)'] / 1000 * 9.81\n",
    "\n",
    "# Convert displacement to m\n",
    "df['Deflection_(m)'] = df['Deflection_(m)'] / 1000\n",
    "\n",
    "# Find the slope of load vs displacement, this is the spring constant, k\n",
    "slopeD, intercept = np.polyfit(df[\"Deflection_(m)\"], df[\"Load_(N)\"], 1)\n",
    "print('The stiffness of', SpringName, 'is', round(slopeD,2), 'N/m')\n",
    "\n",
    "# Plot the data\n",
    "df.plot(x = \"Deflection_(m)\", y=\"Load_(N)\", kind=\"line\", label = SpringName)\n",
    "plt.xlabel(\"Deflection (m)\")\n",
    "plt.ylabel(\"Load (N)\")\n",
    "plt.title(\"Load vs Deflection\")\n",
    "\n",
    "# Show the plot\n",
    "plt.show()"
   ],
   "outputs": [
    {
     "name": "stdout",
     "output_type": "stream",
     "text": [
      "The stiffness of Spring 1 is 297.35 N/m\n"
     ]
    },
    {
     "data": {
      "text/plain": [
       "<Figure size 640x480 with 1 Axes>"
      ],
      "image/png": "[encoded data removed]"
     },
     "metadata": {},
     "output_type": "display_data"
    }
   ],
   "execution_count": 5
  },
  {
   "cell_type": "markdown",
   "id": "134d0404-42a7-45fb-8f7a-1bbccd12899e",
   "metadata": {},
   "source": [
    "### 5. Compare the stiffness of your group's batch of springs\n",
    "\n"
   ]
  },
  {
   "cell_type": "code",
   "id": "1603ae4b-c9ea-43a5-807f-f0a954cb602e",
   "metadata": {
    "ExecuteTime": {
     "end_time": "2025-02-23T01:35:43.703603Z",
     "start_time": "2025-02-23T01:35:43.533065Z"
    }
   },
   "source": [
    "# Input stiffness values for the five springs your group made and tested\n",
    "data = {\n",
    "    \"Spring_ID\": [\"Spring 1\", \"Spring 2\", \"Spring 3\", \"Spring 4\", \"Spring 5\"], # Spring names\n",
    "    \"Stiffness_k\": [350, 370, 340, 360, 355]  # Stiffness in N/m\n",
    "}\n",
    "\n",
    "# Put that data into a Pandas data frame\n",
    "df_k = pd.DataFrame(data)\n",
    "\n",
    "# Create a bar chart of stiffnesses\n",
    "plt.figure(figsize=(8,5))\n",
    "plt.bar(x = \"Spring_ID\", height = \"Stiffness_k\", data = df_k)\n",
    "plt.xlabel(\"Spring ID\")\n",
    "plt.ylabel(\"Stiffness (N/m)\")\n",
    "plt.title(\"Stiffness Across Spring Batch\")\n",
    "plt.xticks(rotation=45)\n",
    "plt.show()\n",
    "\n",
    "# Compute statistics\n",
    "mean_k = df_k[\"Stiffness_k\"].mean()\n",
    "std_k = df_k[\"Stiffness_k\"].std()\n",
    "min_k = df_k[\"Stiffness_k\"].min()\n",
    "max_k = df_k[\"Stiffness_k\"].max()\n",
    "cv_k = std_k / mean_k  # Coefficient of Variation (CV)\n",
    "\n",
    "# Print results\n",
    "print(f\"Mean Stiffness: {mean_k:.2f} N/m\")\n",
    "print(f\"Standard Deviation: {std_k:.2f} N/m\")\n",
    "print(f\"Minimum Stiffness: {min_k:.2f} N/m\")\n",
    "print(f\"Maximum Stiffness: {max_k:.2f} N/m\")\n",
    "print(f\"Coefficient of Variation: {cv_k:.2%}\")\n"
   ],
   "outputs": [
    {
     "data": {
      "text/plain": [
       "<Figure size 800x500 with 1 Axes>"
      ],
      "image/png": "[encoded data removed]"
     },
     "metadata": {},
     "output_type": "display_data"
    },
    {
     "name": "stdout",
     "output_type": "stream",
     "text": [
      "Mean Stiffness: 355.00 N/m\n",
      "Standard Deviation: 11.18 N/m\n",
      "Minimum Stiffness: 340.00 N/m\n",
      "Maximum Stiffness: 370.00 N/m\n",
      "Coefficient of Variation: 3.15%\n"
     ]
    }
   ],
   "execution_count": 7
  },
  {
   "cell_type": "markdown",
   "id": "bfd5097a-880f-4bbc-abf8-9a75ef43f378",
   "metadata": {},
   "source": [
    "### 6. Complete the lab report\n",
    "\n",
    "Complete a lab report using the standard MANU 230 template. Please include the following: <br> \n",
    "-Details of your design <br> \n",
    "-The statistics calculated in Step 5 above <br> \n",
    "-Potential sources of part to part variation<br> \n",
    "-Comment on the repeatability of your group's springs based on the statistics (was each spring close or were they quite off?) <br> \n",
    "\n",
    "Please submit a copy of this notebook with your report. \n",
    "\n",
    "Refer to the lab manual posted on Canvas. If there are discrepancies between this notebook and the lab manual deferer to the lab manual. "
   ]
  },
  {
   "cell_type": "markdown",
   "id": "43478deb-b139-4468-86ed-5706922c526b",
   "metadata": {},
   "source": [
    "#### Helpful Hint\n",
    "\n",
    "For Step 5 you are asked to collaborate and bring your data together. One way to share you data is to create a shared spreadsheet document where everyone can enter their data, then you can export it as a CSV file and use the Pandas `read_csv` function to import it as a data frame then go from there. Below is some example code."
   ]
  },
  {
   "cell_type": "code",
   "id": "e86e4ff5-5829-414e-ba30-f1f20ff05be2",
   "metadata": {
    "ExecuteTime": {
     "end_time": "2025-02-23T01:36:46.875106Z",
     "start_time": "2025-02-23T01:36:46.746687Z"
    }
   },
   "source": [
    "# Load the CSV file containing everyone's data\n",
    "SpringStats = pd.read_csv(\"SpringStats.csv\")\n",
    "\n",
    "# Print/display the data frame to review what it contains (note: NaN means not a number or in this case, an empty cell)\n",
    "print(SpringStats)\n",
    "\n",
    "# Here is an example of finding the mean of a row (not sure why you'd want the mean load but...)\n",
    "mean_load = SpringStats[\"Spring3Load\"].mean()\n",
    "print('The mean load of Spring 3 is', mean_load, 'N')\n",
    "\n",
    "\n",
    "# You could also plot everyone's data if you so desired\n",
    "\n",
    "# Create a plot\n",
    "plt.figure(figsize=(8, 5))\n",
    "\n",
    "# Plot each spring's data (dropping NaNs)\n",
    "plt.plot(SpringStats[\"Spring1Def\"], SpringStats[\"Spring1Load\"], marker='o', label=\"Spring 1\")\n",
    "plt.plot(SpringStats[\"Spring2Def\"], SpringStats[\"Spring2Load\"], marker='s', label=\"Spring 2\")\n",
    "plt.plot(SpringStats[\"Spring3Def\"], SpringStats[\"Spring3Load\"], marker='^', label=\"Spring 3\")\n",
    "\n",
    "# Labels and title\n",
    "plt.xlabel(\"Deflection (mm)\")\n",
    "plt.ylabel(\"Load (N)\")\n",
    "plt.title(\"Load vs. Deflection for Springs\")\n",
    "plt.legend()\n",
    "plt.grid(True)\n",
    "\n",
    "# Show plot\n",
    "plt.show()\n"
   ],
   "outputs": [
    {
     "ename": "FileNotFoundError",
     "evalue": "[Errno 2] No such file or directory: './SpringStats.csv'",
     "output_type": "error",
     "traceback": [
      "\u001B[1;31m---------------------------------------------------------------------------\u001B[0m",
      "\u001B[1;31mFileNotFoundError\u001B[0m                         Traceback (most recent call last)",
      "Cell \u001B[1;32mIn[10], line 2\u001B[0m\n\u001B[0;32m      1\u001B[0m \u001B[38;5;66;03m# Load the CSV file containing everyone's data\u001B[39;00m\n\u001B[1;32m----> 2\u001B[0m SpringStats \u001B[38;5;241m=\u001B[39m \u001B[43mpd\u001B[49m\u001B[38;5;241;43m.\u001B[39;49m\u001B[43mread_csv\u001B[49m\u001B[43m(\u001B[49m\u001B[38;5;124;43m\"\u001B[39;49m\u001B[38;5;124;43m./SpringStats.csv\u001B[39;49m\u001B[38;5;124;43m\"\u001B[39;49m\u001B[43m)\u001B[49m\n\u001B[0;32m      4\u001B[0m \u001B[38;5;66;03m# Print/display the data frame to review what it contains (note: NaN means not a number or in this case, an empty cell)\u001B[39;00m\n\u001B[0;32m      5\u001B[0m \u001B[38;5;28mprint\u001B[39m(SpringStats)\n",
      "File \u001B[1;32mD:\\anaconda3\\lib\\site-packages\\pandas\\util\\_decorators.py:211\u001B[0m, in \u001B[0;36mdeprecate_kwarg.<locals>._deprecate_kwarg.<locals>.wrapper\u001B[1;34m(*args, **kwargs)\u001B[0m\n\u001B[0;32m    209\u001B[0m     \u001B[38;5;28;01melse\u001B[39;00m:\n\u001B[0;32m    210\u001B[0m         kwargs[new_arg_name] \u001B[38;5;241m=\u001B[39m new_arg_value\n\u001B[1;32m--> 211\u001B[0m \u001B[38;5;28;01mreturn\u001B[39;00m func(\u001B[38;5;241m*\u001B[39margs, \u001B[38;5;241m*\u001B[39m\u001B[38;5;241m*\u001B[39mkwargs)\n",
      "File \u001B[1;32mD:\\anaconda3\\lib\\site-packages\\pandas\\util\\_decorators.py:331\u001B[0m, in \u001B[0;36mdeprecate_nonkeyword_arguments.<locals>.decorate.<locals>.wrapper\u001B[1;34m(*args, **kwargs)\u001B[0m\n\u001B[0;32m    325\u001B[0m \u001B[38;5;28;01mif\u001B[39;00m \u001B[38;5;28mlen\u001B[39m(args) \u001B[38;5;241m>\u001B[39m num_allow_args:\n\u001B[0;32m    326\u001B[0m     warnings\u001B[38;5;241m.\u001B[39mwarn(\n\u001B[0;32m    327\u001B[0m         msg\u001B[38;5;241m.\u001B[39mformat(arguments\u001B[38;5;241m=\u001B[39m_format_argument_list(allow_args)),\n\u001B[0;32m    328\u001B[0m         \u001B[38;5;167;01mFutureWarning\u001B[39;00m,\n\u001B[0;32m    329\u001B[0m         stacklevel\u001B[38;5;241m=\u001B[39mfind_stack_level(),\n\u001B[0;32m    330\u001B[0m     )\n\u001B[1;32m--> 331\u001B[0m \u001B[38;5;28;01mreturn\u001B[39;00m func(\u001B[38;5;241m*\u001B[39margs, \u001B[38;5;241m*\u001B[39m\u001B[38;5;241m*\u001B[39mkwargs)\n",
      "File \u001B[1;32mD:\\anaconda3\\lib\\site-packages\\pandas\\io\\parsers\\readers.py:950\u001B[0m, in \u001B[0;36mread_csv\u001B[1;34m(filepath_or_buffer, sep, delimiter, header, names, index_col, usecols, squeeze, prefix, mangle_dupe_cols, dtype, engine, converters, true_values, false_values, skipinitialspace, skiprows, skipfooter, nrows, na_values, keep_default_na, na_filter, verbose, skip_blank_lines, parse_dates, infer_datetime_format, keep_date_col, date_parser, dayfirst, cache_dates, iterator, chunksize, compression, thousands, decimal, lineterminator, quotechar, quoting, doublequote, escapechar, comment, encoding, encoding_errors, dialect, error_bad_lines, warn_bad_lines, on_bad_lines, delim_whitespace, low_memory, memory_map, float_precision, storage_options)\u001B[0m\n\u001B[0;32m    935\u001B[0m kwds_defaults \u001B[38;5;241m=\u001B[39m _refine_defaults_read(\n\u001B[0;32m    936\u001B[0m     dialect,\n\u001B[0;32m    937\u001B[0m     delimiter,\n\u001B[1;32m   (...)\u001B[0m\n\u001B[0;32m    946\u001B[0m     defaults\u001B[38;5;241m=\u001B[39m{\u001B[38;5;124m\"\u001B[39m\u001B[38;5;124mdelimiter\u001B[39m\u001B[38;5;124m\"\u001B[39m: \u001B[38;5;124m\"\u001B[39m\u001B[38;5;124m,\u001B[39m\u001B[38;5;124m\"\u001B[39m},\n\u001B[0;32m    947\u001B[0m )\n\u001B[0;32m    948\u001B[0m kwds\u001B[38;5;241m.\u001B[39mupdate(kwds_defaults)\n\u001B[1;32m--> 950\u001B[0m \u001B[38;5;28;01mreturn\u001B[39;00m \u001B[43m_read\u001B[49m\u001B[43m(\u001B[49m\u001B[43mfilepath_or_buffer\u001B[49m\u001B[43m,\u001B[49m\u001B[43m \u001B[49m\u001B[43mkwds\u001B[49m\u001B[43m)\u001B[49m\n",
      "File \u001B[1;32mD:\\anaconda3\\lib\\site-packages\\pandas\\io\\parsers\\readers.py:605\u001B[0m, in \u001B[0;36m_read\u001B[1;34m(filepath_or_buffer, kwds)\u001B[0m\n\u001B[0;32m    602\u001B[0m _validate_names(kwds\u001B[38;5;241m.\u001B[39mget(\u001B[38;5;124m\"\u001B[39m\u001B[38;5;124mnames\u001B[39m\u001B[38;5;124m\"\u001B[39m, \u001B[38;5;28;01mNone\u001B[39;00m))\n\u001B[0;32m    604\u001B[0m \u001B[38;5;66;03m# Create the parser.\u001B[39;00m\n\u001B[1;32m--> 605\u001B[0m parser \u001B[38;5;241m=\u001B[39m TextFileReader(filepath_or_buffer, \u001B[38;5;241m*\u001B[39m\u001B[38;5;241m*\u001B[39mkwds)\n\u001B[0;32m    607\u001B[0m \u001B[38;5;28;01mif\u001B[39;00m chunksize \u001B[38;5;129;01mor\u001B[39;00m iterator:\n\u001B[0;32m    608\u001B[0m     \u001B[38;5;28;01mreturn\u001B[39;00m parser\n",
      "File \u001B[1;32mD:\\anaconda3\\lib\\site-packages\\pandas\\io\\parsers\\readers.py:1442\u001B[0m, in \u001B[0;36mTextFileReader.__init__\u001B[1;34m(self, f, engine, **kwds)\u001B[0m\n\u001B[0;32m   1439\u001B[0m     \u001B[38;5;28mself\u001B[39m\u001B[38;5;241m.\u001B[39moptions[\u001B[38;5;124m\"\u001B[39m\u001B[38;5;124mhas_index_names\u001B[39m\u001B[38;5;124m\"\u001B[39m] \u001B[38;5;241m=\u001B[39m kwds[\u001B[38;5;124m\"\u001B[39m\u001B[38;5;124mhas_index_names\u001B[39m\u001B[38;5;124m\"\u001B[39m]\n\u001B[0;32m   1441\u001B[0m \u001B[38;5;28mself\u001B[39m\u001B[38;5;241m.\u001B[39mhandles: IOHandles \u001B[38;5;241m|\u001B[39m \u001B[38;5;28;01mNone\u001B[39;00m \u001B[38;5;241m=\u001B[39m \u001B[38;5;28;01mNone\u001B[39;00m\n\u001B[1;32m-> 1442\u001B[0m \u001B[38;5;28mself\u001B[39m\u001B[38;5;241m.\u001B[39m_engine \u001B[38;5;241m=\u001B[39m \u001B[38;5;28;43mself\u001B[39;49m\u001B[38;5;241;43m.\u001B[39;49m\u001B[43m_make_engine\u001B[49m\u001B[43m(\u001B[49m\u001B[43mf\u001B[49m\u001B[43m,\u001B[49m\u001B[43m \u001B[49m\u001B[38;5;28;43mself\u001B[39;49m\u001B[38;5;241;43m.\u001B[39;49m\u001B[43mengine\u001B[49m\u001B[43m)\u001B[49m\n",
      "File \u001B[1;32mD:\\anaconda3\\lib\\site-packages\\pandas\\io\\parsers\\readers.py:1735\u001B[0m, in \u001B[0;36mTextFileReader._make_engine\u001B[1;34m(self, f, engine)\u001B[0m\n\u001B[0;32m   1733\u001B[0m     \u001B[38;5;28;01mif\u001B[39;00m \u001B[38;5;124m\"\u001B[39m\u001B[38;5;124mb\u001B[39m\u001B[38;5;124m\"\u001B[39m \u001B[38;5;129;01mnot\u001B[39;00m \u001B[38;5;129;01min\u001B[39;00m mode:\n\u001B[0;32m   1734\u001B[0m         mode \u001B[38;5;241m+\u001B[39m\u001B[38;5;241m=\u001B[39m \u001B[38;5;124m\"\u001B[39m\u001B[38;5;124mb\u001B[39m\u001B[38;5;124m\"\u001B[39m\n\u001B[1;32m-> 1735\u001B[0m \u001B[38;5;28mself\u001B[39m\u001B[38;5;241m.\u001B[39mhandles \u001B[38;5;241m=\u001B[39m \u001B[43mget_handle\u001B[49m\u001B[43m(\u001B[49m\n\u001B[0;32m   1736\u001B[0m \u001B[43m    \u001B[49m\u001B[43mf\u001B[49m\u001B[43m,\u001B[49m\n\u001B[0;32m   1737\u001B[0m \u001B[43m    \u001B[49m\u001B[43mmode\u001B[49m\u001B[43m,\u001B[49m\n\u001B[0;32m   1738\u001B[0m \u001B[43m    \u001B[49m\u001B[43mencoding\u001B[49m\u001B[38;5;241;43m=\u001B[39;49m\u001B[38;5;28;43mself\u001B[39;49m\u001B[38;5;241;43m.\u001B[39;49m\u001B[43moptions\u001B[49m\u001B[38;5;241;43m.\u001B[39;49m\u001B[43mget\u001B[49m\u001B[43m(\u001B[49m\u001B[38;5;124;43m\"\u001B[39;49m\u001B[38;5;124;43mencoding\u001B[39;49m\u001B[38;5;124;43m\"\u001B[39;49m\u001B[43m,\u001B[49m\u001B[43m \u001B[49m\u001B[38;5;28;43;01mNone\u001B[39;49;00m\u001B[43m)\u001B[49m\u001B[43m,\u001B[49m\n\u001B[0;32m   1739\u001B[0m \u001B[43m    \u001B[49m\u001B[43mcompression\u001B[49m\u001B[38;5;241;43m=\u001B[39;49m\u001B[38;5;28;43mself\u001B[39;49m\u001B[38;5;241;43m.\u001B[39;49m\u001B[43moptions\u001B[49m\u001B[38;5;241;43m.\u001B[39;49m\u001B[43mget\u001B[49m\u001B[43m(\u001B[49m\u001B[38;5;124;43m\"\u001B[39;49m\u001B[38;5;124;43mcompression\u001B[39;49m\u001B[38;5;124;43m\"\u001B[39;49m\u001B[43m,\u001B[49m\u001B[43m \u001B[49m\u001B[38;5;28;43;01mNone\u001B[39;49;00m\u001B[43m)\u001B[49m\u001B[43m,\u001B[49m\n\u001B[0;32m   1740\u001B[0m \u001B[43m    \u001B[49m\u001B[43mmemory_map\u001B[49m\u001B[38;5;241;43m=\u001B[39;49m\u001B[38;5;28;43mself\u001B[39;49m\u001B[38;5;241;43m.\u001B[39;49m\u001B[43moptions\u001B[49m\u001B[38;5;241;43m.\u001B[39;49m\u001B[43mget\u001B[49m\u001B[43m(\u001B[49m\u001B[38;5;124;43m\"\u001B[39;49m\u001B[38;5;124;43mmemory_map\u001B[39;49m\u001B[38;5;124;43m\"\u001B[39;49m\u001B[43m,\u001B[49m\u001B[43m \u001B[49m\u001B[38;5;28;43;01mFalse\u001B[39;49;00m\u001B[43m)\u001B[49m\u001B[43m,\u001B[49m\n\u001B[0;32m   1741\u001B[0m \u001B[43m    \u001B[49m\u001B[43mis_text\u001B[49m\u001B[38;5;241;43m=\u001B[39;49m\u001B[43mis_text\u001B[49m\u001B[43m,\u001B[49m\n\u001B[0;32m   1742\u001B[0m \u001B[43m    \u001B[49m\u001B[43merrors\u001B[49m\u001B[38;5;241;43m=\u001B[39;49m\u001B[38;5;28;43mself\u001B[39;49m\u001B[38;5;241;43m.\u001B[39;49m\u001B[43moptions\u001B[49m\u001B[38;5;241;43m.\u001B[39;49m\u001B[43mget\u001B[49m\u001B[43m(\u001B[49m\u001B[38;5;124;43m\"\u001B[39;49m\u001B[38;5;124;43mencoding_errors\u001B[39;49m\u001B[38;5;124;43m\"\u001B[39;49m\u001B[43m,\u001B[49m\u001B[43m \u001B[49m\u001B[38;5;124;43m\"\u001B[39;49m\u001B[38;5;124;43mstrict\u001B[39;49m\u001B[38;5;124;43m\"\u001B[39;49m\u001B[43m)\u001B[49m\u001B[43m,\u001B[49m\n\u001B[0;32m   1743\u001B[0m \u001B[43m    \u001B[49m\u001B[43mstorage_options\u001B[49m\u001B[38;5;241;43m=\u001B[39;49m\u001B[38;5;28;43mself\u001B[39;49m\u001B[38;5;241;43m.\u001B[39;49m\u001B[43moptions\u001B[49m\u001B[38;5;241;43m.\u001B[39;49m\u001B[43mget\u001B[49m\u001B[43m(\u001B[49m\u001B[38;5;124;43m\"\u001B[39;49m\u001B[38;5;124;43mstorage_options\u001B[39;49m\u001B[38;5;124;43m\"\u001B[39;49m\u001B[43m,\u001B[49m\u001B[43m \u001B[49m\u001B[38;5;28;43;01mNone\u001B[39;49;00m\u001B[43m)\u001B[49m\u001B[43m,\u001B[49m\n\u001B[0;32m   1744\u001B[0m \u001B[43m\u001B[49m\u001B[43m)\u001B[49m\n\u001B[0;32m   1745\u001B[0m \u001B[38;5;28;01massert\u001B[39;00m \u001B[38;5;28mself\u001B[39m\u001B[38;5;241m.\u001B[39mhandles \u001B[38;5;129;01mis\u001B[39;00m \u001B[38;5;129;01mnot\u001B[39;00m \u001B[38;5;28;01mNone\u001B[39;00m\n\u001B[0;32m   1746\u001B[0m f \u001B[38;5;241m=\u001B[39m \u001B[38;5;28mself\u001B[39m\u001B[38;5;241m.\u001B[39mhandles\u001B[38;5;241m.\u001B[39mhandle\n",
      "File \u001B[1;32mD:\\anaconda3\\lib\\site-packages\\pandas\\io\\common.py:856\u001B[0m, in \u001B[0;36mget_handle\u001B[1;34m(path_or_buf, mode, encoding, compression, memory_map, is_text, errors, storage_options)\u001B[0m\n\u001B[0;32m    851\u001B[0m \u001B[38;5;28;01melif\u001B[39;00m \u001B[38;5;28misinstance\u001B[39m(handle, \u001B[38;5;28mstr\u001B[39m):\n\u001B[0;32m    852\u001B[0m     \u001B[38;5;66;03m# Check whether the filename is to be opened in binary mode.\u001B[39;00m\n\u001B[0;32m    853\u001B[0m     \u001B[38;5;66;03m# Binary mode does not support 'encoding' and 'newline'.\u001B[39;00m\n\u001B[0;32m    854\u001B[0m     \u001B[38;5;28;01mif\u001B[39;00m ioargs\u001B[38;5;241m.\u001B[39mencoding \u001B[38;5;129;01mand\u001B[39;00m \u001B[38;5;124m\"\u001B[39m\u001B[38;5;124mb\u001B[39m\u001B[38;5;124m\"\u001B[39m \u001B[38;5;129;01mnot\u001B[39;00m \u001B[38;5;129;01min\u001B[39;00m ioargs\u001B[38;5;241m.\u001B[39mmode:\n\u001B[0;32m    855\u001B[0m         \u001B[38;5;66;03m# Encoding\u001B[39;00m\n\u001B[1;32m--> 856\u001B[0m         handle \u001B[38;5;241m=\u001B[39m \u001B[38;5;28;43mopen\u001B[39;49m\u001B[43m(\u001B[49m\n\u001B[0;32m    857\u001B[0m \u001B[43m            \u001B[49m\u001B[43mhandle\u001B[49m\u001B[43m,\u001B[49m\n\u001B[0;32m    858\u001B[0m \u001B[43m            \u001B[49m\u001B[43mioargs\u001B[49m\u001B[38;5;241;43m.\u001B[39;49m\u001B[43mmode\u001B[49m\u001B[43m,\u001B[49m\n\u001B[0;32m    859\u001B[0m \u001B[43m            \u001B[49m\u001B[43mencoding\u001B[49m\u001B[38;5;241;43m=\u001B[39;49m\u001B[43mioargs\u001B[49m\u001B[38;5;241;43m.\u001B[39;49m\u001B[43mencoding\u001B[49m\u001B[43m,\u001B[49m\n\u001B[0;32m    860\u001B[0m \u001B[43m            \u001B[49m\u001B[43merrors\u001B[49m\u001B[38;5;241;43m=\u001B[39;49m\u001B[43merrors\u001B[49m\u001B[43m,\u001B[49m\n\u001B[0;32m    861\u001B[0m \u001B[43m            \u001B[49m\u001B[43mnewline\u001B[49m\u001B[38;5;241;43m=\u001B[39;49m\u001B[38;5;124;43m\"\u001B[39;49m\u001B[38;5;124;43m\"\u001B[39;49m\u001B[43m,\u001B[49m\n\u001B[0;32m    862\u001B[0m \u001B[43m        \u001B[49m\u001B[43m)\u001B[49m\n\u001B[0;32m    863\u001B[0m     \u001B[38;5;28;01melse\u001B[39;00m:\n\u001B[0;32m    864\u001B[0m         \u001B[38;5;66;03m# Binary mode\u001B[39;00m\n\u001B[0;32m    865\u001B[0m         handle \u001B[38;5;241m=\u001B[39m \u001B[38;5;28mopen\u001B[39m(handle, ioargs\u001B[38;5;241m.\u001B[39mmode)\n",
      "\u001B[1;31mFileNotFoundError\u001B[0m: [Errno 2] No such file or directory: './SpringStats.csv'"
     ]
    }
   ],
   "execution_count": 10
  }
 ],
 "metadata": {
  "kernelspec": {
   "display_name": "Python 3 (ipykernel)",
   "language": "python",
   "name": "python3"
  },
  "language_info": {
   "codemirror_mode": {
    "name": "ipython",
    "version": 3
   },
   "file_extension": ".py",
   "mimetype": "text/x-python",
   "name": "python",
   "nbconvert_exporter": "python",
   "pygments_lexer": "ipython3",
   "version": "3.11.7"
  }
 },
 "nbformat": 4,
 "nbformat_minor": 5
}
