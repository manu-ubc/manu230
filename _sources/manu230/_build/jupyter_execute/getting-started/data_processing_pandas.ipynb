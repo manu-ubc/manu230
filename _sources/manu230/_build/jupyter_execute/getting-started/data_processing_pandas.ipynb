{
 "cells": [
  {
   "cell_type": "markdown",
   "id": "7297948697313b9f",
   "metadata": {},
   "source": [
    "# Data Processing with Pandas\n",
    "\n",
    "In this notebook, we will explore the basics of using the Pandas library for data analysis. Pandas is a powerful tool for handling and analyzing structured data in Python, making it ideal for tasks like opening CSV files, performing operations on datasets, and visualizing results. Through practical examples, you'll learn how to load data, manipulate it, and create insightful plots using Pandas.\n"
   ]
  },
  {
   "cell_type": "code",
   "execution_count": 1,
   "id": "37c8dd279210f863",
   "metadata": {
    "ExecuteTime": {
     "end_time": "2025-01-14T23:25:30.553586Z",
     "start_time": "2025-01-14T23:25:30.537607Z"
    }
   },
   "outputs": [],
   "source": [
    "# Importing Required Libraries\n",
    "import pandas as pd\n",
    "import matplotlib.pyplot as plt\n",
    "import numpy as np"
   ]
  },
  {
   "cell_type": "markdown",
   "id": "42b4d200ae8f8665",
   "metadata": {},
   "source": [
    "## Typical Polymer Processing Data\n",
    "During polymer processing, the material undergoes a temperature cycle involving three stages:\n",
    "1. **Heating**: The temperature rises rapidly to the processing temperature.\n",
    "2. **Holding**: The temperature is maintained for a specific period for processing.\n",
    "3. **Cooling**: The temperature decreases gradually to solidify the material.\n",
    "\n",
    "This dataset simulates these stages. Let's create a sample dataset to represent the temperature profile during polymer processing. The dataset will include the following columns:\n",
    "- **Time (minutes)**: The time elapsed during processing.\n",
    "- **Temperature (°C)**: The temperature at each time point."
   ]
  },
  {
   "cell_type": "code",
   "execution_count": 2,
   "id": "5161f5f7da085707",
   "metadata": {
    "ExecuteTime": {
     "end_time": "2025-01-14T23:25:30.570035Z",
     "start_time": "2025-01-14T23:25:30.559802Z"
    }
   },
   "outputs": [
    {
     "name": "stdout",
     "output_type": "stream",
     "text": [
      "=== Creating Polymer Processing Dataset ===\n"
     ]
    }
   ],
   "source": [
    "print(\"=== Creating Polymer Processing Dataset ===\")\n",
    "# Simulated data using some numpy functions\n",
    "# number of data points\n",
    "num_points = 90\n",
    "# time in minutes\n",
    "time_minutes = np.linspace(0, 120, num_points)\n",
    "# stages: Heating, Holding, Cooling\n",
    "heating = np.linspace(20, 180, num_points // 3)\n",
    "holding = np.linspace(180, 180, num_points // 3)\n",
    "cooling = np.linspace(180, 20, num_points // 3)\n",
    "# combine the stages to create the temperature data\n",
    "temperature = np.concatenate([heating, holding, cooling])"
   ]
  },
  {
   "cell_type": "code",
   "execution_count": 3,
   "id": "3ca0bb5e38ed1a58",
   "metadata": {
    "ExecuteTime": {
     "end_time": "2025-01-14T23:25:30.615928Z",
     "start_time": "2025-01-14T23:25:30.595145Z"
    }
   },
   "outputs": [
    {
     "name": "stdout",
     "output_type": "stream",
     "text": [
      "Simulated Data:\n",
      "   Time (min)  Temperature (C)\n",
      "0    0.000000        20.000000\n",
      "1    1.348315        25.517241\n",
      "2    2.696629        31.034483\n",
      "3    4.044944        36.551724\n",
      "4    5.393258        42.068966\n"
     ]
    }
   ],
   "source": [
    "# Create a DataFrame using the simulated data\n",
    "data = pd.DataFrame({\n",
    "    'Time (min)': time_minutes,\n",
    "    'Temperature (C)': temperature\n",
    "})\n",
    "print(\"Simulated Data:\")\n",
    "print(data.head())"
   ]
  },
  {
   "cell_type": "markdown",
   "id": "2f6f8e33dee23eba",
   "metadata": {},
   "source": [
    "## Exploring and Manipulating Data\n",
    "\n",
    "We'll explore the dataset to understand its structure and characteristics. This includes:\n",
    "- Viewing basic information and the first few rows of the data.\n",
    "- Calculating summary statistics for temperature."
   ]
  },
  {
   "cell_type": "code",
   "execution_count": 4,
   "id": "ffeaee4c8ffa38dc",
   "metadata": {
    "ExecuteTime": {
     "end_time": "2025-01-14T23:25:30.667276Z",
     "start_time": "2025-01-14T23:25:30.638310Z"
    }
   },
   "outputs": [
    {
     "name": "stdout",
     "output_type": "stream",
     "text": [
      "Summary of Data:\n",
      "<class 'pandas.core.frame.DataFrame'>\n",
      "RangeIndex: 90 entries, 0 to 89\n",
      "Data columns (total 2 columns):\n",
      " #   Column           Non-Null Count  Dtype  \n",
      "---  ------           --------------  -----  \n",
      " 0   Time (min)       90 non-null     float64\n",
      " 1   Temperature (C)  90 non-null     float64\n",
      "dtypes: float64(2)\n",
      "memory usage: 1.5 KB\n",
      "None\n",
      "\n",
      "Basic Statistics:\n",
      "       Time (min)  Temperature (C)\n",
      "count   90.000000        90.000000\n",
      "mean    60.000000       126.666667\n",
      "std     35.224316        54.548977\n",
      "min      0.000000        20.000000\n",
      "25%     30.000000        80.689655\n",
      "50%     60.000000       141.379310\n",
      "75%     90.000000       180.000000\n",
      "max    120.000000       180.000000\n"
     ]
    }
   ],
   "source": [
    "# Viewing basic information about the dataset\n",
    "print(\"Summary of Data:\")\n",
    "print(data.info())\n",
    "\n",
    "print(\"\\nBasic Statistics:\")\n",
    "print(data.describe())"
   ]
  },
  {
   "cell_type": "markdown",
   "id": "35c166d484999897",
   "metadata": {},
   "source": [
    "## Filtering Data by temperature\n",
    "Filter data points where temperature is above 100°C"
   ]
  },
  {
   "cell_type": "code",
   "execution_count": 5,
   "id": "bb7bb4a623137311",
   "metadata": {
    "ExecuteTime": {
     "end_time": "2025-01-14T23:25:30.700065Z",
     "start_time": "2025-01-14T23:25:30.687109Z"
    }
   },
   "outputs": [
    {
     "name": "stdout",
     "output_type": "stream",
     "text": [
      "\n",
      "High Temperature Data:\n",
      "    Time (min)  Temperature (C)\n",
      "15   20.224719       102.758621\n",
      "16   21.573034       108.275862\n",
      "17   22.921348       113.793103\n",
      "18   24.269663       119.310345\n",
      "19   25.617978       124.827586\n",
      "20   26.966292       130.344828\n",
      "21   28.314607       135.862069\n",
      "22   29.662921       141.379310\n",
      "23   31.011236       146.896552\n",
      "24   32.359551       152.413793\n",
      "25   33.707865       157.931034\n",
      "26   35.056180       163.448276\n",
      "27   36.404494       168.965517\n",
      "28   37.752809       174.482759\n",
      "29   39.101124       180.000000\n",
      "30   40.449438       180.000000\n",
      "31   41.797753       180.000000\n",
      "32   43.146067       180.000000\n",
      "33   44.494382       180.000000\n",
      "34   45.842697       180.000000\n",
      "35   47.191011       180.000000\n",
      "36   48.539326       180.000000\n",
      "37   49.887640       180.000000\n",
      "38   51.235955       180.000000\n",
      "39   52.584270       180.000000\n",
      "40   53.932584       180.000000\n",
      "41   55.280899       180.000000\n",
      "42   56.629213       180.000000\n",
      "43   57.977528       180.000000\n",
      "44   59.325843       180.000000\n",
      "45   60.674157       180.000000\n",
      "46   62.022472       180.000000\n",
      "47   63.370787       180.000000\n",
      "48   64.719101       180.000000\n",
      "49   66.067416       180.000000\n",
      "50   67.415730       180.000000\n",
      "51   68.764045       180.000000\n",
      "52   70.112360       180.000000\n",
      "53   71.460674       180.000000\n",
      "54   72.808989       180.000000\n",
      "55   74.157303       180.000000\n",
      "56   75.505618       180.000000\n",
      "57   76.853933       180.000000\n",
      "58   78.202247       180.000000\n",
      "59   79.550562       180.000000\n",
      "60   80.898876       180.000000\n",
      "61   82.247191       174.482759\n",
      "62   83.595506       168.965517\n",
      "63   84.943820       163.448276\n",
      "64   86.292135       157.931034\n",
      "65   87.640449       152.413793\n",
      "66   88.988764       146.896552\n",
      "67   90.337079       141.379310\n",
      "68   91.685393       135.862069\n",
      "69   93.033708       130.344828\n",
      "70   94.382022       124.827586\n",
      "71   95.730337       119.310345\n",
      "72   97.078652       113.793103\n",
      "73   98.426966       108.275862\n",
      "74   99.775281       102.758621\n"
     ]
    }
   ],
   "source": [
    "high_temp_data = data[data['Temperature (C)'] > 100]\n",
    "print(\"\\nHigh Temperature Data:\")\n",
    "print(high_temp_data)"
   ]
  },
  {
   "cell_type": "markdown",
   "id": "f8fdb147550da1d9",
   "metadata": {},
   "source": [
    "## Plotting Temperature Profile\n",
    "Let's visualize the temperature profile during polymer processing using a line plot.\n",
    "Plotting the temperature profile over time provides insights into the heating, holding, and cooling behavior of the polymer during processing."
   ]
  },
  {
   "cell_type": "code",
   "execution_count": 6,
   "id": "7d1e00cc11892c85",
   "metadata": {
    "ExecuteTime": {
     "end_time": "2025-01-14T23:25:31.009968Z",
     "start_time": "2025-01-14T23:25:30.717737Z"
    }
   },
   "outputs": [
    {
     "data": {
      "image/png": "[encoded data removed]",
      "text/plain": [
       "<Figure size 1000x600 with 1 Axes>"
      ]
     },
     "metadata": {},
     "output_type": "display_data"
    }
   ],
   "source": [
    "# Plotting the temperature profile\n",
    "plt.figure(figsize=(10, 6))\n",
    "plt.plot(data['Time (min)'], data['Temperature (C)'], color='b', label='Temperature Profile')\n",
    "plt.title(\"Polymer Processing Temperature Profile\")\n",
    "plt.xlabel(\"Time (minutes)\")\n",
    "plt.ylabel(\"Temperature (°C)\")\n",
    "plt.grid(True)\n",
    "plt.legend()\n",
    "plt.show()"
   ]
  },
  {
   "cell_type": "markdown",
   "id": "b3acae5ce9090932",
   "metadata": {},
   "source": [
    "## Saving the Dataset\n",
    "To preserve the simulated dataset for future analysis or sharing, we'll save it to a CSV file."
   ]
  },
  {
   "cell_type": "code",
   "execution_count": 7,
   "id": "75154d62dafed4b1",
   "metadata": {
    "ExecuteTime": {
     "end_time": "2025-01-14T23:25:31.356770Z",
     "start_time": "2025-01-14T23:25:31.028543Z"
    }
   },
   "outputs": [
    {
     "name": "stdout",
     "output_type": "stream",
     "text": [
      "Dataset saved to 'polymer_processing_data.csv'\n"
     ]
    }
   ],
   "source": [
    "# Save the dataset to a CSV file\n",
    "data.to_csv('polymer_processing_data.csv', index=False)\n",
    "print(\"Dataset saved to 'polymer_processing_data.csv'\")\n",
    "# this data can then be loaded using pd.read_csv('polymer_processing_data.csv')"
   ]
  },
  {
   "cell_type": "markdown",
   "id": "78ac71a255c369c9",
   "metadata": {},
   "source": [
    "## Summary\n",
    "This notebook covered:\n",
    "- Creating a dataset for polymer processing temperature profiles\n",
    "- Exploring and filtering the data\n",
    "- Visualizing the temperature profile over time with Matplotlib\n",
    "- Saving the dataset to a CSV file"
   ]
  }
 ],
 "metadata": {
  "kernelspec": {
   "display_name": "Python 3",
   "language": "python",
   "name": "python3"
  },
  "language_info": {
   "codemirror_mode": {
    "name": "ipython",
    "version": 3
   },
   "file_extension": ".py",
   "mimetype": "text/x-python",
   "name": "python",
   "nbconvert_exporter": "python",
   "pygments_lexer": "ipython3",
   "version": "3.10.9"
  }
 },
 "nbformat": 4,
 "nbformat_minor": 5
}