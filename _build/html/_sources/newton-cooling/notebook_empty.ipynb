{
 "cells": [
  {
   "metadata": {},
   "cell_type": "markdown",
   "source": [
    "# Inverse Simulation of Newton's Law of Cooling\n",
    "We will use the Newton's Law of Cooling to simulate the temperature of a body that is cooling down. The Newton's Law of Cooling is given by the following differential equation:\n",
    "\\begin{equation}\n",
    "  \\frac{dT}{dt} = -k(T - T_a)\n",
    "\\end{equation}\n",
    "where:\n",
    "- $T$ is the temperature of the body at time $t$,\n",
    "- $T_a$ is the ambient temperature,\n",
    "- $k$ is the cooling constant,\n",
    "- $\\frac{dT}{dt}$ is the rate of change of temperature with respect to time.\n",
    "\n",
    "The solution to this differential equation is given by:\n",
    "\n",
    "\\begin{equation}\n",
    "  T(t) = T_a + (T_0 - T_a)e^{-kt}\n",
    "\\end{equation}\n",
    "\n",
    "We will try to estimate the cooling constant $k$ in this notebook."
   ],
   "id": "1f8aa34930e3505c"
  },
  {
   "metadata": {},
   "cell_type": "markdown",
   "source": [
    "## Experimental Setup\n",
    "We will simulate the cooling of a beaker of hot water $T_0 = 100^\\circ C$. The temperature of the hot water is measured at regular intervals of time. The ambient temperature is $T_a = 20^\\circ C$.\n",
    "\n",
    "```{figure} Setup.png\n",
    "---\n",
    "name: Setup\n",
    "width: 500px\n",
    "---\n",
    "Experimental Setup\n",
    "```"
   ],
   "id": "127648f7de91354b"
  },
  {
   "metadata": {},
   "cell_type": "markdown",
   "source": [
    "## 0. Import necessary libraries\n",
    "We will need libraries like `numpy` to perform and `matplotlib` to plot the simulation results. The `pandas` library will be used to read the experimental data."
   ],
   "id": "d5fe4768832c9130"
  },
  {
   "metadata": {},
   "cell_type": "code",
   "source": [
    "# Import necessary libraries\n",
    "import numpy as np\n",
    "import matplotlib.pyplot as plt\n",
    "import pandas as pd"
   ],
   "id": "906166f84e54f68f",
   "outputs": [],
   "execution_count": null
  },
  {
   "metadata": {},
   "cell_type": "markdown",
   "source": [
    "## 1. Define the parameters\n",
    "We will define the parameters of the simulation such as the initial temperature $T_0$, the ambient temperature $T_a$, the cooling constant $k$, and the time step $\\Delta t$. We will also define the time interval over which we want to simulate the cooling."
   ],
   "id": "5176c47b2137a67a"
  },
  {
   "metadata": {},
   "cell_type": "code",
   "source": [
    "# Define the parameters\n",
    "T0 = 70.0  # Initial temperature in degree Celsius\n",
    "Ta = 20.0   # Ambient temperature in degree Celsius\n",
    "k = 0.005     # Cooling constant - assumed a value for simulation\n",
    "dt = 1      # Time step in seconds\n",
    "time = np.arange(0, 3600, dt)  # Time interval for simulation - 1 hour (3600 seconds)"
   ],
   "id": "f446737907a4a7e",
   "outputs": [],
   "execution_count": null
  },
  {
   "metadata": {},
   "cell_type": "markdown",
   "source": [
    "## 2. Simulate the cooling process\n",
    "We will simulate the cooling process using the formula:\n",
    "\n",
    "$$\n",
    "T(t) = T_a + (T_0 - T_a)e^{-kt}\n",
    "$$\n"
   ],
   "id": "27e190444af679dc"
  },
  {
   "metadata": {},
   "cell_type": "code",
   "source": [
    "# Simulate the cooling process\n",
    "T = Ta + (T0 - Ta) * np.exp(-k * time)"
   ],
   "id": "170b8bfa01a96c39",
   "outputs": [],
   "execution_count": null
  },
  {
   "metadata": {},
   "cell_type": "markdown",
   "source": [
    "## 3. Plot the results\n",
    "We will plot the temperature of the hot water as a function of time to visualize the cooling process."
   ],
   "id": "ea69be9172e063f8"
  },
  {
   "metadata": {},
   "cell_type": "code",
   "source": [
    "# Plot the results\n",
    "plt.figure(figsize=(10, 6))\n",
    "plt.plot(time, T, label='Temperature (℃)')\n",
    "plt.axhline(y=Ta, color='r', linestyle='--', label='Ambient Temperature (℃)')\n",
    "plt.title(\"Cooling of Hot Water\")\n",
    "plt.xlabel(\"Time (seconds)\")\n",
    "plt.ylabel(\"Temperature (℃)\")\n",
    "plt.legend()\n",
    "plt.grid(True)\n",
    "plt.show()"
   ],
   "id": "cfb4d48b570b4bd8",
   "outputs": [],
   "execution_count": null
  },
  {
   "metadata": {},
   "cell_type": "markdown",
   "source": [
    "Here, we can see that the temperature of the hot water decreases exponentially with time and approaches the ambient temperature $T_a = 20^\\circ C$. The cooling constant $k$ determines how quickly the temperature decreases. A higher value of $k$ results in faster cooling, while a lower value of $k$ results in slower cooling.\n",
    "What do you think would happen if we change the cooling constant $k$? Try changing the value of $k$ and see how it affects the cooling process.\n",
    "What does the cooling constant $k$ represent in the context of Newton's Law of Cooling?\n",
    "$k$ depends on the thermal properties of the body and the surrounding environment. It represents the rate at which the body loses heat to the environment."
   ],
   "id": "d3a1f99888a7fc28"
  },
  {
   "metadata": {},
   "cell_type": "code",
   "source": [
    "# Range of cooling constants to simulate different scenarios\n",
    "k_values = [0.0007, 0.001, 0.0015, 0.002, 0.005, 0.01, 0.02]\n",
    "T_values = []\n",
    "for k in k_values:\n",
    "    T = Ta + (T0 - Ta) * np.exp(-k * time)\n",
    "    T_values.append(T)\n",
    "\n",
    "# Let's plot the results for different values of k\n",
    "plt.figure(figsize=(10, 6))\n",
    "for i, k in enumerate(k_values):\n",
    "    plt.plot(time, T_values[i], label=f'k = {k}')\n",
    "plt.axhline(y=Ta, color='k', linestyle='--', label='Ambient Temperature (℃)')\n",
    "plt.title(\"Cooling of Hot Water for Different Cooling Constants\")\n",
    "plt.xlabel(\"Time (seconds)\")\n",
    "plt.ylabel(\"Temperature (℃)\")\n",
    "plt.legend()\n",
    "plt.show()"
   ],
   "id": "fbc7bee07114034c",
   "outputs": [],
   "execution_count": null
  },
  {
   "metadata": {},
   "cell_type": "markdown",
   "source": [
    "## 4. Read in experimental data\n",
    "Let's import some experimental data of the temperature of the hot water at different time intervals. We will then try to estimate the cooling constant $k$ by fitting the data to the Newton's Law of Cooling equation. To do this we will use the `pandas` library to read the data from a CSV file. Btw the data was acquired using a thermocouple and collected using a python script based on the `nidaqmx` library.\n"
   ],
   "id": "6ef83c2f526dcc63"
  },
  {
   "metadata": {},
   "cell_type": "code",
   "source": [
    "# Import experimental data\n",
    "data = pd.read_csv('thermocouple_data.csv', encoding='unicode_escape')\n",
    "data.head()\n",
    "# remove data above 70\n",
    "data = data[data['Thermocouple Reading (°C)'] < 70]\n",
    "# adjust the timestamp\n",
    "data['Timestamp'] = data['Timestamp'] - data['Timestamp'].iloc[0]"
   ],
   "id": "a60dcb8dab25f3bc",
   "outputs": [],
   "execution_count": null
  },
  {
   "metadata": {},
   "cell_type": "markdown",
   "source": [
    "## 5. Plot the data\n",
    "Let's plot the experimental data to visualize the temperature of the hot water as a function of time."
   ],
   "id": "6f6fc4c0cf9381b3"
  },
  {
   "metadata": {},
   "cell_type": "code",
   "source": [
    "# Plot the experimental data\n",
    "plt.figure(figsize=(10, 6))\n",
    "plt.plot(data['Timestamp'], data['Thermocouple Reading (°C)'], '-', label='Experimental Data')\n",
    "plt.axhline(y=Ta, color='r', linestyle='--', label='Ambient Temperature (℃)')\n",
    "plt.title(\"Experimental Data: Cooling of Hot Water\")\n",
    "plt.xlabel(\"Time (seconds)\")\n",
    "plt.ylabel(\"Temperature (℃)\")\n",
    "plt.legend()\n",
    "plt.grid(True)\n",
    "plt.show()"
   ],
   "id": "e27fcca52c3e3a78",
   "outputs": [],
   "execution_count": null
  },
  {
   "metadata": {},
   "cell_type": "markdown",
   "source": [
    "## 6. Overlap the simulation with the experimental data\n",
    "Let's overlap the simulation results with the experimental data to estimate the cooling constant $k$."
   ],
   "id": "9959880e0dd8e11e"
  },
  {
   "metadata": {},
   "cell_type": "code",
   "source": [
    "# Plot the experimental data and simulation results\n",
    "plt.figure(figsize=(10, 6))\n",
    "plt.plot(data['Timestamp'], data['Thermocouple Reading (°C)'], '-', label='Experimental Data')\n",
    "for i, k in enumerate(k_values):\n",
    "    plt.plot(time, T_values[i], label=f'k = {k}')\n",
    "plt.axhline(y=Ta, color='r', linestyle='--', label='Ambient Temperature (℃)')\n",
    "plt.title(\"Experimental Data vs. Simulation: Cooling of Hot Water\")\n",
    "plt.xlabel(\"Time (seconds)\")\n",
    "plt.ylabel(\"Temperature (℃)\")\n",
    "plt.legend()\n",
    "plt.grid(True)\n",
    "plt.show()"
   ],
   "id": "73f148aeb754760d",
   "outputs": [],
   "execution_count": null
  },
  {
   "metadata": {},
   "cell_type": "markdown",
   "source": [
    "## 7. Estimate the cooling constant k\n",
    "We will estimate the cooling constant $k$ by fitting the experimental data to the Newton's Law of Cooling equation.\n",
    "We will use the `numpy` library to find the best fit value of $k$."
   ],
   "id": "fff8a37aa656fa9a"
  },
  {
   "metadata": {},
   "cell_type": "code",
   "source": [
    "# open the experimental data\n",
    "data = pd.read_csv('labview_data.csv', encoding='unicode_escape')\n",
    "data.head()\n",
    "# rename the columns\n",
    "data.columns = ['Timestamp', 'Temperature']\n",
    "k = 0.0008\n",
    "T0 = data['Temperature'].iloc[0]\n",
    "print(T0)\n",
    "T_sim = Ta + (T0 - Ta) * np.exp(-k * (data['Timestamp']-data['Timestamp'].iloc[0]))\n",
    "\n",
    "# plot the experimental data\n",
    "plt.figure(figsize=(10, 6))\n",
    "plt.plot(data['Timestamp'], data['Temperature'], '-', label='Experimental Data')\n",
    "plt.plot(data['Timestamp'], T_sim, '-', label='Simulation')\n",
    "plt.axhline(y=Ta, color='r', linestyle='--', label='Ambient Temperature (℃)')\n",
    "plt.title(\"Experimental Data: Cooling of Hot Water\")\n",
    "plt.xlabel(\"Time (seconds)\")\n",
    "plt.ylabel(\"Temperature (℃)\")\n",
    "plt.legend()\n",
    "plt.grid(True)\n",
    "plt.show()\n"
   ],
   "id": "bb3169f0059cb1fe",
   "outputs": [],
   "execution_count": null
  },
  {
   "metadata": {},
   "cell_type": "code",
   "source": "",
   "id": "ea6a3337040a45e",
   "outputs": [],
   "execution_count": null
  },
  {
   "metadata": {},
   "cell_type": "markdown",
   "source": "",
   "id": "53744db32ff824ca"
  }
 ],
 "metadata": {
  "kernelspec": {
   "name": "python3",
   "language": "python",
   "display_name": "Python 3"
  }
 },
 "nbformat": 4,
 "nbformat_minor": 5
}
