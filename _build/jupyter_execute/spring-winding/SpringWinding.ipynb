{
 "cells": [
  {
   "cell_type": "markdown",
   "id": "24a650c5-6477-42cc-957a-39012abf45ed",
   "metadata": {},
   "source": [
    "# MANU 230 Spring Lab\n",
    "\n",
    "**Objective:** become familiar with a basic wire forming process as well as part to part variation in manufacturing by designing and manufacturing a number of springs to meet predefined objectives.\n",
    "\n",
    "**Method:** design springs following the procedure below, manufacture multiples of the same spring design, investigate part to part variability by testing the stiffness of the springs and calculating basic statistical parameters.\n",
    "\n",
    "**Note:** refer to the lab manual that is posted on Canvas for this lab activity. If there are discrepancies between this notebook and the lab manual, defer to the lab manual.\n",
    "\n",
    "**Hint:** use this notebook as a starting point and edit/modify as you see fit. Review the whole sheet before you get started, there is a little hint at the end that might be useful. "
   ]
  },
  {
   "attachments": {},
   "cell_type": "markdown",
   "id": "40e9cf33-145a-421b-9da8-a6b6704a9139",
   "metadata": {},
   "source": [
    "## Safety, Material and Equipment\n",
    "\n",
    "Safety glasses are extremely important in this lab due the use of sharp wire.\n",
    "\n",
    "Hazards include: \n",
    "Sharp wire <br>\n",
    "Wire offcut projectiles <br>\n",
    "Wire cutting tool <br>\n",
    "Pinch hazard between wire and mandrel <br>\n",
    "\n",
    "```{figure} SpringTools.png\n",
    "---\n",
    "height: 400px\n",
    "name: SpringTools\n",
    "---\n",
    "Tools and materials used in the lab\n",
    "\n",
    "```{figure} SpringEquipment.png\n",
    "---\n",
    "height: 400px\n",
    "name: SpringEquipment\n",
    "---\n",
    "Equipment used in the lab\n"
   ]
  },
  {
   "cell_type": "markdown",
   "id": "ca1b6631-200e-410e-93fe-dd0a03b65837",
   "metadata": {},
   "source": [
    "## Spring Stiffness Calculations\n",
    "\n",
    "A spring's stiffness or 'rate', $k$ is defined as the amount of load to deflect the spring by a certain amount. This is typically reported at $N/m$ or $lb/in$. <br>\n",
    "\n",
    "Stiffness can be calculated with the following equation: <br>\n",
    "$k = \\frac{d^4G}{8D^3N_a}$ ...(1)<br>\n",
    "\n",
    "Where:<br>\n",
    "$d$ is the wire diameter ($m$ or more commonly $mm$)<br>\n",
    "$G$ is the shear modulus of the wire material ($Pa$ or more commonly $GPa$)<br>\n",
    "$D$ is the average spring diameter ($OD_{spring} - d$) ($m$ or more commonly $mm$)<br>\n",
    "$N_a$ is the number of active coils in the spring <br>\n",
    "<br>\n",
    "For our lab activity, we would like to calculate the number of active coils required to acheive a desired spring stiffness. We can rearrange (1) to get (2): <br>\n",
    "$N_a = \\frac{d^4G}{8D^3k}$ ...(2)<br>\n",
    "\n"
   ]
  },
  {
   "cell_type": "markdown",
   "id": "e4235075-e51c-48f8-a9ab-1a0b0c627274",
   "metadata": {},
   "source": [
    "## Follow the procedure below to complete the lab activity\n",
    "\n",
    "Choose an objective from one of the design scenarios below. Each member of your group will choose a different scenario.\n",
    "1) Calculate the desired spring stiffness.\n",
    "2) Calculate the number of active coils in the spring to acheive the desired stiffness.\n",
    "3) Make the spring you designed. Everyone in your group will also make the same spring.\n",
    "4) Measure the spring stiffness.\n",
    "5) Compare the variation in spring stiffness of all the springs made by you and your group members.\n",
    "6) Prepare and submit your lab report.\n",
    "\n",
    "The following mandrel sizes are available:\n",
    "12 $mm$\n",
    "18 $mm$\n",
    "25 $mm$\n",
    "\n",
    "The following wire gages are available:\n",
    "1 $mm$\n",
    "1.25 $mm$\n",
    "1.5 $mm$\n",
    "\n",
    "The wire material is 304 Stainless Steel.\n",
    "\n",
    "Be aware that the springs will 'spring back' or unwind slightly after they are wound around the mandrels. The table below shows experimental data of the resulting outside diameter of various gage/mandrel combinations. Use this as the starting point in your calculations.  \n",
    "\n",
    "| Gage/Mandrel | 12 mm | 18 mm | 25 mm |\r\n",
    "|-------------|-------|-------|-------|\r\n",
    "| 1 mm       | 17.1  | 31.2  | 52.4  |\r\n",
    "| 1.25 mm    | 15.8  | 27.8  | 43.7  |\r\n",
    "| 1.5 mm     | 15.4  | 25.8  | 41.5\n",
    "\n",
    "**Design Scenarios** <br>\n",
    "\n",
    "Each member in your group will select a different design scenario and design their own spring using the procedure below. <br>\n",
    "\n",
    "**Scenario #1** <You needneed a spring that will hold a piston in 20 $mm$ diameter cylinder. The mass of the piston is 800 $g$ and it must deflect approximately 8 $mm$.\n",
    "\n",
    "\n",
    "**Scenario #2** <br>\n",
    "You need a spring that is as short as possible and will hold a mass of $3$00 g and deflect no less than $10$0 mm.\n",
    "\n",
    "\n",
    "**Scenario #3** <You need the stiffest spring possible with three or more active coils8 mm.\n",
    "\n",
    "\n",
    "**Scenario #4** <You need a spring that will hold 5 kN with approximately 20 $mm$ of deflection using the smallest mandrel and wire gage. mm.\n",
    "\n",
    "\n",
    "**Scenario #5** <You needneed a spring that will h5 kN with approximately 20 $mm$ of deflection using the largest mandrel and wire gage8  mm.\n",
    "\n",
    "\n",
    "**Scenario #6** \n",
    "You need the softest spring possible with five or less active coils.   |\r\n"
   ]
  },
  {
   "cell_type": "markdown",
   "id": "4b1fba62-686a-4770-a4ae-6fd015cae71c",
   "metadata": {},
   "source": [
    "### 0. Import packages and define variables"
   ]
  },
  {
   "cell_type": "code",
   "execution_count": 1,
   "id": "4de19d1c-db1a-4477-b51d-221c778b6c17",
   "metadata": {},
   "outputs": [],
   "source": [
    "#import packages\n",
    "\n",
    "import pandas as pd\n",
    "import numpy as np\n",
    "from numpy import pi\n",
    "import matplotlib.pyplot as plt\n",
    "\n",
    "#Define variables\n",
    "G = 70 * 1e9 #Pa (shear modulus of 304 stainless steel, note: G is typically reported in GPa)\n",
    "\n",
    "#refer to the table above for available wire gages\n",
    "d = 1.25 / 1000 #m, wire gage (diameter)\n",
    "\n",
    "#D is the result of a combination of wire gage and mandrel diameter, select select it from the table above\n",
    "D = (27.8 - d) / 1000 #m, average spring diameter, which is equal to the OD of the spring minus the wire diameter"
   ]
  },
  {
   "cell_type": "markdown",
   "id": "3f228ea9-4763-4651-9d8d-d6eae66adbf6",
   "metadata": {},
   "source": [
    "### 1. Calculate the desired spring stiffness\n"
   ]
  },
  {
   "cell_type": "code",
   "execution_count": 2,
   "id": "bc093d79-db5f-477f-a728-83f2d66c0a1b",
   "metadata": {},
   "outputs": [
    {
     "name": "stdout",
     "output_type": "stream",
     "text": [
      "Spring stiffness = 245  N/m\n"
     ]
    }
   ],
   "source": [
    "#Define variables\n",
    "F = (500 / 1000) * 9.81 #N, input the load/force the spring must exert\n",
    "s = 20 / 1000 #m, spring deflection, input the desired displacement of the spring under said load\n",
    "\n",
    "#Calculate spring stiffness\n",
    "k = F / s #N/m\n",
    "print('Spring stiffness =', round(k),' N/m')"
   ]
  },
  {
   "cell_type": "markdown",
   "id": "5394f93b-1c3f-4478-91af-c6afc17eb249",
   "metadata": {},
   "source": [
    "### 2. Calculate the number of active coils"
   ]
  },
  {
   "cell_type": "code",
   "execution_count": 3,
   "id": "856a9fff-bda1-49b1-b635-288cc8105316",
   "metadata": {},
   "outputs": [
    {
     "name": "stdout",
     "output_type": "stream",
     "text": [
      "Na =  4.1 turns\n"
     ]
    }
   ],
   "source": [
    "#Calculate the number of coils required to obtain desired spring stiffness\n",
    "\n",
    "Na = (d**4 * G) / (8 * D**3 * k)\n",
    "print('Na = ', round(Na, 1), 'turns')\n",
    "\n",
    "#NOTE: PLEASE KEEP THE NUMBER OF ACTIVE COILS BELOW EIGHT"
   ]
  },
  {
   "cell_type": "markdown",
   "id": "2c2e199e-aafc-42ae-8729-3be6cdb27ae6",
   "metadata": {},
   "source": [
    "### 3. Make springs\n",
    "\n",
    "Now that you have a design, make your spring using the spring winding apparatus. This video will show you how to perform this task:\n",
    "https://youtu.be/x1HTJAbvkuo \n",
    "\n",
    "```{figure} SpringWindingVideo.png\n",
    "---\n",
    "height: 400px\n",
    "name: SpringWindingVideo\n",
    "---\n",
    "Spring winding video QR code\n",
    "\n",
    "Each student is responsible for one spring design, for making and measuring that design, and for making and measuring each of their group member's designs. For example, in a team of five students, each student will make five springs of different designs. "
   ]
  },
  {
   "cell_type": "markdown",
   "id": "17412327-ec0c-4484-a12c-a5ef9b6bd16f",
   "metadata": {},
   "source": [
    "### 4. Measure spring stiffness"
   ]
  },
  {
   "cell_type": "code",
   "execution_count": 4,
   "id": "9657cd5a-a626-4d14-95cf-03f90d38da6c",
   "metadata": {},
   "outputs": [
    {
     "name": "stdout",
     "output_type": "stream",
     "text": [
      "The stiffness of Spring 1 is 297.35 N/m\n"
     ]
    },
    {
     "data": {
      "image/png": "[encoded data removed]",
      "text/plain": [
       "<Figure size 640x480 with 1 Axes>"
      ]
     },
     "metadata": {},
     "output_type": "display_data"
    }
   ],
   "source": [
    "# Spring stiffness measurement \n",
    "# Use this code to help analyze your spring stiffness data and calculate k\n",
    "\n",
    "# Define your spring name\n",
    "SpringName = 'Spring 1'\n",
    "\n",
    "# Create a dataframe to put measured data in\n",
    "# Specify column names\n",
    "columns = ['Load_(N)', 'Deflection_(m)']\n",
    "\n",
    "# Input the measured data in a two column array where the first column is load and the second is displacement\n",
    "# **NOTE: keep track of your units, in this example we are inputting g and mm then converting to N and m \n",
    "data = [\n",
    "    [0, 0],\n",
    "    [284 , 10.57],\n",
    "    [282.4 + 284, 18.57]\n",
    "]\n",
    "\n",
    "# Create DataFrame\n",
    "df = pd.DataFrame(data, columns=columns)\n",
    "\n",
    "# Convert mass to force\n",
    "df['Load_(N)'] = df['Load_(N)'] / 1000 * 9.81\n",
    "\n",
    "# Convert displacement to m\n",
    "df['Deflection_(m)'] = df['Deflection_(m)'] / 1000\n",
    "\n",
    "# Find the slope of load vs displacement, this is the spring constant, k\n",
    "slopeD, intercept = np.polyfit(df[\"Deflection_(m)\"], df[\"Load_(N)\"], 1)\n",
    "print('The stiffness of', SpringName, 'is', round(slopeD,2), 'N/m')\n",
    "\n",
    "# Plot the data\n",
    "df.plot(x = \"Deflection_(m)\", y=\"Load_(N)\", kind=\"line\", label = SpringName)\n",
    "plt.xlabel(\"Deflection (m)\")\n",
    "plt.ylabel(\"Load (N)\")\n",
    "plt.title(\"Load vs Deflection\")\n",
    "\n",
    "# Show the plot\n",
    "plt.show()"
   ]
  },
  {
   "cell_type": "markdown",
   "id": "134d0404-42a7-45fb-8f7a-1bbccd12899e",
   "metadata": {},
   "source": [
    "### 5. Compare the stiffness of your group's batch of springs\n",
    "\n"
   ]
  },
  {
   "cell_type": "code",
   "execution_count": 5,
   "id": "1603ae4b-c9ea-43a5-807f-f0a954cb602e",
   "metadata": {},
   "outputs": [
    {
     "data": {
      "image/png": "[encoded data removed]",
      "text/plain": [
       "<Figure size 800x500 with 1 Axes>"
      ]
     },
     "metadata": {},
     "output_type": "display_data"
    },
    {
     "name": "stdout",
     "output_type": "stream",
     "text": [
      "Mean Stiffness: 355.00 N/m\n",
      "Standard Deviation: 11.18 N/m\n",
      "Minimum Stiffness: 340.00 N/m\n",
      "Maximum Stiffness: 370.00 N/m\n",
      "Coefficient of Variation: 3.15%\n"
     ]
    }
   ],
   "source": [
    "# Input stiffness values for the five springs your group made and tested\n",
    "data = {\n",
    "    \"Spring_ID\": [\"Spring 1\", \"Spring 2\", \"Spring 3\", \"Spring 4\", \"Spring 5\"], # Spring names\n",
    "    \"Stiffness_k\": [350, 370, 340, 360, 355]  # Stiffness in N/m\n",
    "}\n",
    "\n",
    "# Put that data into a Pandas data frame\n",
    "df_k = pd.DataFrame(data)\n",
    "\n",
    "# Create a bar chart of stiffnesses\n",
    "plt.figure(figsize=(8,5))\n",
    "plt.bar(x = \"Spring_ID\", height = \"Stiffness_k\", data = df_k)\n",
    "plt.xlabel(\"Spring ID\")\n",
    "plt.ylabel(\"Stiffness (N/m)\")\n",
    "plt.title(\"Stiffness Across Spring Batch\")\n",
    "plt.xticks(rotation=45)\n",
    "plt.grid(True)\n",
    "plt.show()\n",
    "\n",
    "# Compute statistics\n",
    "mean_k = df_k[\"Stiffness_k\"].mean()\n",
    "std_k = df_k[\"Stiffness_k\"].std()\n",
    "min_k = df_k[\"Stiffness_k\"].min()\n",
    "max_k = df_k[\"Stiffness_k\"].max()\n",
    "cv_k = std_k / mean_k  # Coefficient of Variation (CV)\n",
    "\n",
    "# Print results\n",
    "print(f\"Mean Stiffness: {mean_k:.2f} N/m\")\n",
    "print(f\"Standard Deviation: {std_k:.2f} N/m\")\n",
    "print(f\"Minimum Stiffness: {min_k:.2f} N/m\")\n",
    "print(f\"Maximum Stiffness: {max_k:.2f} N/m\")\n",
    "print(f\"Coefficient of Variation: {cv_k:.2%}\")\n"
   ]
  },
  {
   "cell_type": "markdown",
   "id": "bfd5097a-880f-4bbc-abf8-9a75ef43f378",
   "metadata": {},
   "source": [
    "### 6. Complete the lab report\n",
    "\n",
    "Complete a lab report using the standard MANU 230 template. Please include the following: <br> \n",
    "-Details of your design <br> \n",
    "-The statistics calculated in Step 5 above <br> \n",
    "-Potential sources of part to part variation<br> \n",
    "-Comment on the repeatability of your group's springs based on the statistics (was each spring close or were they quite off?) <br> \n",
    "\n",
    "Please submit a copy of this notebook with your report. \n",
    "\n",
    "Refer to the lab manual posted on Canvas. If there are discrepancies between this notebook and the lab manual deferer to the lab manual. "
   ]
  },
  {
   "cell_type": "markdown",
   "id": "43478deb-b139-4468-86ed-5706922c526b",
   "metadata": {},
   "source": [
    "#### Helpful Hint\n",
    "\n",
    "For Step 5 you are asked to collaborate and bring your data together. One way to share you data is to create a shared spreadsheet document where everyone can enter their data, then you can export it as a CSV file and use the Pandas `read_csv` function to import it as a data frame then go from there. Below is some example code."
   ]
  },
  {
   "cell_type": "code",
   "execution_count": 6,
   "id": "e86e4ff5-5829-414e-ba30-f1f20ff05be2",
   "metadata": {},
   "outputs": [
    {
     "ename": "FileNotFoundError",
     "evalue": "[Errno 2] No such file or directory: 'SpringStats.csv'",
     "output_type": "error",
     "traceback": [
      "\u001b[1;31m---------------------------------------------------------------------------\u001b[0m",
      "\u001b[1;31mFileNotFoundError\u001b[0m                         Traceback (most recent call last)",
      "Cell \u001b[1;32mIn[6], line 2\u001b[0m\n\u001b[0;32m      1\u001b[0m \u001b[38;5;66;03m# Load the CSV file containing everyone's data\u001b[39;00m\n\u001b[1;32m----> 2\u001b[0m SpringStats \u001b[38;5;241m=\u001b[39m pd\u001b[38;5;241m.\u001b[39mread_csv(\u001b[38;5;124m\"\u001b[39m\u001b[38;5;124mSpringStats.csv\u001b[39m\u001b[38;5;124m\"\u001b[39m)\n\u001b[0;32m      4\u001b[0m \u001b[38;5;66;03m# Print/display the data frame to review what it contains (note: NaN means not a number or in this case, an empty cell)\u001b[39;00m\n\u001b[0;32m      5\u001b[0m \u001b[38;5;28mprint\u001b[39m(SpringStats)\n",
      "File \u001b[1;32m~\\AppData\\Local\\anaconda3\\Lib\\site-packages\\pandas\\io\\parsers\\readers.py:948\u001b[0m, in \u001b[0;36mread_csv\u001b[1;34m(filepath_or_buffer, sep, delimiter, header, names, index_col, usecols, dtype, engine, converters, true_values, false_values, skipinitialspace, skiprows, skipfooter, nrows, na_values, keep_default_na, na_filter, verbose, skip_blank_lines, parse_dates, infer_datetime_format, keep_date_col, date_parser, date_format, dayfirst, cache_dates, iterator, chunksize, compression, thousands, decimal, lineterminator, quotechar, quoting, doublequote, escapechar, comment, encoding, encoding_errors, dialect, on_bad_lines, delim_whitespace, low_memory, memory_map, float_precision, storage_options, dtype_backend)\u001b[0m\n\u001b[0;32m    935\u001b[0m kwds_defaults \u001b[38;5;241m=\u001b[39m _refine_defaults_read(\n\u001b[0;32m    936\u001b[0m     dialect,\n\u001b[0;32m    937\u001b[0m     delimiter,\n\u001b[1;32m   (...)\u001b[0m\n\u001b[0;32m    944\u001b[0m     dtype_backend\u001b[38;5;241m=\u001b[39mdtype_backend,\n\u001b[0;32m    945\u001b[0m )\n\u001b[0;32m    946\u001b[0m kwds\u001b[38;5;241m.\u001b[39mupdate(kwds_defaults)\n\u001b[1;32m--> 948\u001b[0m \u001b[38;5;28;01mreturn\u001b[39;00m _read(filepath_or_buffer, kwds)\n",
      "File \u001b[1;32m~\\AppData\\Local\\anaconda3\\Lib\\site-packages\\pandas\\io\\parsers\\readers.py:611\u001b[0m, in \u001b[0;36m_read\u001b[1;34m(filepath_or_buffer, kwds)\u001b[0m\n\u001b[0;32m    608\u001b[0m _validate_names(kwds\u001b[38;5;241m.\u001b[39mget(\u001b[38;5;124m\"\u001b[39m\u001b[38;5;124mnames\u001b[39m\u001b[38;5;124m\"\u001b[39m, \u001b[38;5;28;01mNone\u001b[39;00m))\n\u001b[0;32m    610\u001b[0m \u001b[38;5;66;03m# Create the parser.\u001b[39;00m\n\u001b[1;32m--> 611\u001b[0m parser \u001b[38;5;241m=\u001b[39m TextFileReader(filepath_or_buffer, \u001b[38;5;241m*\u001b[39m\u001b[38;5;241m*\u001b[39mkwds)\n\u001b[0;32m    613\u001b[0m \u001b[38;5;28;01mif\u001b[39;00m chunksize \u001b[38;5;129;01mor\u001b[39;00m iterator:\n\u001b[0;32m    614\u001b[0m     \u001b[38;5;28;01mreturn\u001b[39;00m parser\n",
      "File \u001b[1;32m~\\AppData\\Local\\anaconda3\\Lib\\site-packages\\pandas\\io\\parsers\\readers.py:1448\u001b[0m, in \u001b[0;36mTextFileReader.__init__\u001b[1;34m(self, f, engine, **kwds)\u001b[0m\n\u001b[0;32m   1445\u001b[0m     \u001b[38;5;28mself\u001b[39m\u001b[38;5;241m.\u001b[39moptions[\u001b[38;5;124m\"\u001b[39m\u001b[38;5;124mhas_index_names\u001b[39m\u001b[38;5;124m\"\u001b[39m] \u001b[38;5;241m=\u001b[39m kwds[\u001b[38;5;124m\"\u001b[39m\u001b[38;5;124mhas_index_names\u001b[39m\u001b[38;5;124m\"\u001b[39m]\n\u001b[0;32m   1447\u001b[0m \u001b[38;5;28mself\u001b[39m\u001b[38;5;241m.\u001b[39mhandles: IOHandles \u001b[38;5;241m|\u001b[39m \u001b[38;5;28;01mNone\u001b[39;00m \u001b[38;5;241m=\u001b[39m \u001b[38;5;28;01mNone\u001b[39;00m\n\u001b[1;32m-> 1448\u001b[0m \u001b[38;5;28mself\u001b[39m\u001b[38;5;241m.\u001b[39m_engine \u001b[38;5;241m=\u001b[39m \u001b[38;5;28mself\u001b[39m\u001b[38;5;241m.\u001b[39m_make_engine(f, \u001b[38;5;28mself\u001b[39m\u001b[38;5;241m.\u001b[39mengine)\n",
      "File \u001b[1;32m~\\AppData\\Local\\anaconda3\\Lib\\site-packages\\pandas\\io\\parsers\\readers.py:1705\u001b[0m, in \u001b[0;36mTextFileReader._make_engine\u001b[1;34m(self, f, engine)\u001b[0m\n\u001b[0;32m   1703\u001b[0m     \u001b[38;5;28;01mif\u001b[39;00m \u001b[38;5;124m\"\u001b[39m\u001b[38;5;124mb\u001b[39m\u001b[38;5;124m\"\u001b[39m \u001b[38;5;129;01mnot\u001b[39;00m \u001b[38;5;129;01min\u001b[39;00m mode:\n\u001b[0;32m   1704\u001b[0m         mode \u001b[38;5;241m+\u001b[39m\u001b[38;5;241m=\u001b[39m \u001b[38;5;124m\"\u001b[39m\u001b[38;5;124mb\u001b[39m\u001b[38;5;124m\"\u001b[39m\n\u001b[1;32m-> 1705\u001b[0m \u001b[38;5;28mself\u001b[39m\u001b[38;5;241m.\u001b[39mhandles \u001b[38;5;241m=\u001b[39m get_handle(\n\u001b[0;32m   1706\u001b[0m     f,\n\u001b[0;32m   1707\u001b[0m     mode,\n\u001b[0;32m   1708\u001b[0m     encoding\u001b[38;5;241m=\u001b[39m\u001b[38;5;28mself\u001b[39m\u001b[38;5;241m.\u001b[39moptions\u001b[38;5;241m.\u001b[39mget(\u001b[38;5;124m\"\u001b[39m\u001b[38;5;124mencoding\u001b[39m\u001b[38;5;124m\"\u001b[39m, \u001b[38;5;28;01mNone\u001b[39;00m),\n\u001b[0;32m   1709\u001b[0m     compression\u001b[38;5;241m=\u001b[39m\u001b[38;5;28mself\u001b[39m\u001b[38;5;241m.\u001b[39moptions\u001b[38;5;241m.\u001b[39mget(\u001b[38;5;124m\"\u001b[39m\u001b[38;5;124mcompression\u001b[39m\u001b[38;5;124m\"\u001b[39m, \u001b[38;5;28;01mNone\u001b[39;00m),\n\u001b[0;32m   1710\u001b[0m     memory_map\u001b[38;5;241m=\u001b[39m\u001b[38;5;28mself\u001b[39m\u001b[38;5;241m.\u001b[39moptions\u001b[38;5;241m.\u001b[39mget(\u001b[38;5;124m\"\u001b[39m\u001b[38;5;124mmemory_map\u001b[39m\u001b[38;5;124m\"\u001b[39m, \u001b[38;5;28;01mFalse\u001b[39;00m),\n\u001b[0;32m   1711\u001b[0m     is_text\u001b[38;5;241m=\u001b[39mis_text,\n\u001b[0;32m   1712\u001b[0m     errors\u001b[38;5;241m=\u001b[39m\u001b[38;5;28mself\u001b[39m\u001b[38;5;241m.\u001b[39moptions\u001b[38;5;241m.\u001b[39mget(\u001b[38;5;124m\"\u001b[39m\u001b[38;5;124mencoding_errors\u001b[39m\u001b[38;5;124m\"\u001b[39m, \u001b[38;5;124m\"\u001b[39m\u001b[38;5;124mstrict\u001b[39m\u001b[38;5;124m\"\u001b[39m),\n\u001b[0;32m   1713\u001b[0m     storage_options\u001b[38;5;241m=\u001b[39m\u001b[38;5;28mself\u001b[39m\u001b[38;5;241m.\u001b[39moptions\u001b[38;5;241m.\u001b[39mget(\u001b[38;5;124m\"\u001b[39m\u001b[38;5;124mstorage_options\u001b[39m\u001b[38;5;124m\"\u001b[39m, \u001b[38;5;28;01mNone\u001b[39;00m),\n\u001b[0;32m   1714\u001b[0m )\n\u001b[0;32m   1715\u001b[0m \u001b[38;5;28;01massert\u001b[39;00m \u001b[38;5;28mself\u001b[39m\u001b[38;5;241m.\u001b[39mhandles \u001b[38;5;129;01mis\u001b[39;00m \u001b[38;5;129;01mnot\u001b[39;00m \u001b[38;5;28;01mNone\u001b[39;00m\n\u001b[0;32m   1716\u001b[0m f \u001b[38;5;241m=\u001b[39m \u001b[38;5;28mself\u001b[39m\u001b[38;5;241m.\u001b[39mhandles\u001b[38;5;241m.\u001b[39mhandle\n",
      "File \u001b[1;32m~\\AppData\\Local\\anaconda3\\Lib\\site-packages\\pandas\\io\\common.py:863\u001b[0m, in \u001b[0;36mget_handle\u001b[1;34m(path_or_buf, mode, encoding, compression, memory_map, is_text, errors, storage_options)\u001b[0m\n\u001b[0;32m    858\u001b[0m \u001b[38;5;28;01melif\u001b[39;00m \u001b[38;5;28misinstance\u001b[39m(handle, \u001b[38;5;28mstr\u001b[39m):\n\u001b[0;32m    859\u001b[0m     \u001b[38;5;66;03m# Check whether the filename is to be opened in binary mode.\u001b[39;00m\n\u001b[0;32m    860\u001b[0m     \u001b[38;5;66;03m# Binary mode does not support 'encoding' and 'newline'.\u001b[39;00m\n\u001b[0;32m    861\u001b[0m     \u001b[38;5;28;01mif\u001b[39;00m ioargs\u001b[38;5;241m.\u001b[39mencoding \u001b[38;5;129;01mand\u001b[39;00m \u001b[38;5;124m\"\u001b[39m\u001b[38;5;124mb\u001b[39m\u001b[38;5;124m\"\u001b[39m \u001b[38;5;129;01mnot\u001b[39;00m \u001b[38;5;129;01min\u001b[39;00m ioargs\u001b[38;5;241m.\u001b[39mmode:\n\u001b[0;32m    862\u001b[0m         \u001b[38;5;66;03m# Encoding\u001b[39;00m\n\u001b[1;32m--> 863\u001b[0m         handle \u001b[38;5;241m=\u001b[39m \u001b[38;5;28mopen\u001b[39m(\n\u001b[0;32m    864\u001b[0m             handle,\n\u001b[0;32m    865\u001b[0m             ioargs\u001b[38;5;241m.\u001b[39mmode,\n\u001b[0;32m    866\u001b[0m             encoding\u001b[38;5;241m=\u001b[39mioargs\u001b[38;5;241m.\u001b[39mencoding,\n\u001b[0;32m    867\u001b[0m             errors\u001b[38;5;241m=\u001b[39merrors,\n\u001b[0;32m    868\u001b[0m             newline\u001b[38;5;241m=\u001b[39m\u001b[38;5;124m\"\u001b[39m\u001b[38;5;124m\"\u001b[39m,\n\u001b[0;32m    869\u001b[0m         )\n\u001b[0;32m    870\u001b[0m     \u001b[38;5;28;01melse\u001b[39;00m:\n\u001b[0;32m    871\u001b[0m         \u001b[38;5;66;03m# Binary mode\u001b[39;00m\n\u001b[0;32m    872\u001b[0m         handle \u001b[38;5;241m=\u001b[39m \u001b[38;5;28mopen\u001b[39m(handle, ioargs\u001b[38;5;241m.\u001b[39mmode)\n",
      "\u001b[1;31mFileNotFoundError\u001b[0m: [Errno 2] No such file or directory: 'SpringStats.csv'"
     ]
    }
   ],
   "source": [
    "# Load the CSV file containing everyone's data\n",
    "SpringStats = pd.read_csv(\"SpringStats.csv\")\n",
    "\n",
    "# Print/display the data frame to review what it contains (note: NaN means not a number or in this case, an empty cell)\n",
    "print(SpringStats)\n",
    "\n",
    "# Here is an example of finding the mean of a row (not sure why you'd want the mean load but...)\n",
    "mean_load = SpringStats[\"Spring3Load\"].mean()\n",
    "print('The mean load of Spring 3 is', mean_load, 'N')\n",
    "\n",
    "\n",
    "# You could also plot everyone's data if you so desired\n",
    "\n",
    "# Create a plot\n",
    "plt.figure(figsize=(8, 5))\n",
    "\n",
    "# Plot each spring's data (dropping NaNs)\n",
    "plt.plot(SpringStats[\"Spring1Def\"], SpringStats[\"Spring1Load\"], marker='o', label=\"Spring 1\")\n",
    "plt.plot(SpringStats[\"Spring2Def\"], SpringStats[\"Spring2Load\"], marker='s', label=\"Spring 2\")\n",
    "plt.plot(SpringStats[\"Spring3Def\"], SpringStats[\"Spring3Load\"], marker='^', label=\"Spring 3\")\n",
    "\n",
    "# Labels and title\n",
    "plt.xlabel(\"Deflection (mm)\")\n",
    "plt.ylabel(\"Load (N)\")\n",
    "plt.title(\"Load vs. Deflection for Springs\")\n",
    "plt.legend()\n",
    "plt.grid(True)\n",
    "\n",
    "# Show plot\n",
    "plt.show()\n"
   ]
  }
 ],
 "metadata": {
  "kernelspec": {
   "display_name": "Python 3 (ipykernel)",
   "language": "python",
   "name": "python3"
  },
  "language_info": {
   "codemirror_mode": {
    "name": "ipython",
    "version": 3
   },
   "file_extension": ".py",
   "mimetype": "text/x-python",
   "name": "python",
   "nbconvert_exporter": "python",
   "pygments_lexer": "ipython3",
   "version": "3.11.7"
  }
 },
 "nbformat": 4,
 "nbformat_minor": 5
}