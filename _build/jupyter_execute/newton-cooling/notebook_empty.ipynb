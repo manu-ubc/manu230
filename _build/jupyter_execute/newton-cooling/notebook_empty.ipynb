{
 "cells": [
  {
   "cell_type": "markdown",
   "id": "1f8aa34930e3505c",
   "metadata": {},
   "source": [
    "# Inverse Simulation of Newton's Law of Cooling\n",
    "We will use the Newton's Law of Cooling to simulate the temperature of a body that is cooling down. The Newton's Law of Cooling is given by the following differential equation:\n",
    "\\begin{equation}\n",
    "  \\frac{dT}{dt} = -k(T - T_a)\n",
    "\\end{equation}\n",
    "where:\n",
    "- $T$ is the temperature of the body at time $t$,\n",
    "- $T_a$ is the ambient temperature,\n",
    "- $k$ is the cooling constant,\n",
    "- $\\frac{dT}{dt}$ is the rate of change of temperature with respect to time.\n",
    "\n",
    "The solution to this differential equation is given by:\n",
    "\\begin{equation}\n",
    "  T(t) = T_a + (T_0 - T_a)e^{-kt}\n",
    "\\end{equation}\n",
    "We will try to estimate the cooling constant $k$ in this notebook."
   ]
  },
  {
   "cell_type": "markdown",
   "id": "127648f7de91354b",
   "metadata": {},
   "source": [
    "## Experimental Setup\n",
    "We will simulate the cooling of a beaker of hot water $T_0 = 100^\\circ C$. The temperature of the hot water is measured at regular intervals of time. The ambient temperature is $T_a = 20^\\circ C$.\n",
    "\n",
    "```{figure} Setup.png\n",
    "---\n",
    "name: Setup\n",
    "width: 500px\n",
    "---\n",
    "Experimental Setup\n",
    "```"
   ]
  },
  {
   "cell_type": "markdown",
   "id": "d5fe4768832c9130",
   "metadata": {},
   "source": [
    "## 0. Import necessary libraries\n",
    "We will need libraries like `numpy` to perform and `matplotlib` to plot the simulation results. The `pandas` library will be used to read the experimental data."
   ]
  },
  {
   "cell_type": "code",
   "execution_count": 1,
   "id": "906166f84e54f68f",
   "metadata": {},
   "outputs": [],
   "source": [
    "# Import necessary libraries\n",
    "import numpy as np\n",
    "import matplotlib.pyplot as plt\n",
    "import pandas as pd"
   ]
  },
  {
   "cell_type": "markdown",
   "id": "5176c47b2137a67a",
   "metadata": {},
   "source": [
    "## 1. Define the parameters\n",
    "We will define the parameters of the simulation such as the initial temperature $T_0$, the ambient temperature $T_a$, the cooling constant $k$, and the time step $\\Delta t$. We will also define the time interval over which we want to simulate the cooling."
   ]
  },
  {
   "cell_type": "code",
   "execution_count": 2,
   "id": "f446737907a4a7e",
   "metadata": {},
   "outputs": [],
   "source": [
    "# Define the parameters\n",
    "# T0 =   # Initial temperature in degree Celsius\n",
    "# Ta =    # Ambient temperature in degree Celsius\n",
    "# k =      # Cooling constant - assumed a value for simulation\n",
    "# dt =       # Time step in seconds\n",
    "# time = np.arange(    )  # Time interval for simulation - 1 hour (3600 seconds)"
   ]
  },
  {
   "cell_type": "markdown",
   "id": "27e190444af679dc",
   "metadata": {},
   "source": [
    "## 2. Simulate the cooling process\n",
    "We will simulate the cooling process using the formula:\n",
    "\n",
    "$$\n",
    "T(t) = T_a + (T_0 - T_a)e^{-kt}\n",
    "$$\n"
   ]
  },
  {
   "cell_type": "code",
   "execution_count": 3,
   "id": "170b8bfa01a96c39",
   "metadata": {},
   "outputs": [],
   "source": [
    "# Simulate the cooling process\n",
    "# T ="
   ]
  },
  {
   "cell_type": "markdown",
   "id": "ea69be9172e063f8",
   "metadata": {},
   "source": [
    "## 3. Plot the results\n",
    "We will plot the temperature of the hot water as a function of time to visualize the cooling process."
   ]
  },
  {
   "cell_type": "code",
   "execution_count": 4,
   "id": "cfb4d48b570b4bd8",
   "metadata": {},
   "outputs": [],
   "source": [
    "# Plot the results\n",
    "# plt.figure(figsize=(10, 6))\n",
    "# plt.plot(                )\n",
    "# plt.title(\"               \")\n",
    "# plt.xlabel(\"              \")\n",
    "# plt.ylabel(\"              \")\n",
    "# plt.legend()\n",
    "# plt.show()"
   ]
  },
  {
   "cell_type": "markdown",
   "id": "d3a1f99888a7fc28",
   "metadata": {},
   "source": [
    "Here, we can see that the temperature of the hot water decreases exponentially with time and approaches the ambient temperature $T_a = 20^\\circ C$. The cooling constant $k$ determines how quickly the temperature decreases. A higher value of $k$ results in faster cooling, while a lower value of $k$ results in slower cooling.\n",
    "What do you think would happen if we change the cooling constant $k$? Try changing the value of $k$ and see how it affects the cooling process.\n",
    "What does the cooling constant $k$ represent in the context of Newton's Law of Cooling?\n",
    "$k$ depends on the thermal properties of the body and the surrounding environment. It represents the rate at which the body loses heat to the environment."
   ]
  },
  {
   "cell_type": "code",
   "execution_count": 5,
   "id": "fbc7bee07114034c",
   "metadata": {},
   "outputs": [],
   "source": [
    "# Range of cooling constants to simulate different scenarios\n",
    "# k_values = [0.0007, 0.001, 0.0015, 0.002, 0.005, 0.01, 0.02]\n",
    "# T_values = []\n",
    "\n",
    "# Use a for loop to simulate the cooling process for different values of k\n",
    "\n",
    "# Let's plot the results for different values of k\n",
    "# plt.figure(figsize=(10, 6))\n",
    "# you can also use a for loop to plot the results\n",
    "#\n",
    "# plt.title(\"Cooling of Hot Water for Different Cooling Constants\")\n",
    "# plt.xlabel(\"              \")\n",
    "# plt.ylabel(\"              \")\n",
    "# plt.legend()\n",
    "# plt.show()"
   ]
  },
  {
   "cell_type": "markdown",
   "id": "6ef83c2f526dcc63",
   "metadata": {},
   "source": [
    "## 4. Read in experimental data\n",
    "Let's import some experimental data of the temperature of the hot water at different time intervals. We will then try to estimate the cooling constant $k$ by fitting the data to the Newton's Law of Cooling equation. To do this we will use the `pandas` library to read the data from a CSV file. Btw the data was acquired using a thermocouple and collected using a python script based on the `nidaqmx` library.\n"
   ]
  },
  {
   "cell_type": "code",
   "execution_count": 6,
   "id": "a60dcb8dab25f3bc",
   "metadata": {},
   "outputs": [],
   "source": [
    "# Import experimental data\n",
    "# data = pd.read_csv('thermocouple_data.csv', encoding='unicode_escape')\n",
    "# data.head()"
   ]
  },
  {
   "cell_type": "markdown",
   "id": "6f6fc4c0cf9381b3",
   "metadata": {},
   "source": [
    "## 5. Plot the data\n",
    "Let's plot the experimental data to visualize the temperature of the hot water as a function of time."
   ]
  },
  {
   "cell_type": "code",
   "execution_count": 7,
   "id": "e27fcca52c3e3a78",
   "metadata": {},
   "outputs": [],
   "source": [
    "# Plot the experimental data\n"
   ]
  },
  {
   "cell_type": "markdown",
   "id": "9959880e0dd8e11e",
   "metadata": {},
   "source": [
    "## 6. Overlap the simulation with the experimental data\n",
    "Let's overlap the simulation results with the experimental data to estimate the cooling constant $k$."
   ]
  },
  {
   "cell_type": "code",
   "execution_count": 8,
   "id": "73f148aeb754760d",
   "metadata": {},
   "outputs": [],
   "source": [
    "# Plot the experimental data and simulation results\n"
   ]
  },
  {
   "cell_type": "markdown",
   "id": "fff8a37aa656fa9a",
   "metadata": {},
   "source": [
    "## 7. Estimate the cooling constant k\n",
    "We will estimate the cooling constant $k$ by fitting the experimental data to the Newton's Law of Cooling equation.\n",
    "\\begin{equation}\n",
    "k = -\\frac{1}{t} \\ln\\left(\\frac{T(t) - T_a}{T_0 - T_a}\\right)\n",
    "\\end{equation}\n",
    "where $T(t)$ is the temperature at time $t$.\n"
   ]
  },
  {
   "cell_type": "code",
   "execution_count": 9,
   "id": "bb3169f0059cb1fe",
   "metadata": {},
   "outputs": [],
   "source": [
    "# Estimate the cooling constant k\n",
    "# k values will change depending on the time intervals, for this case lets use the first 1500 s\n",
    "# k = -1/1500 * np.log((T - Ta) / (T0 - Ta))\n",
    "\n",
    "# plot the experimental data with simulated results for estimated k\n",
    "\n",
    "\n"
   ]
  },
  {
   "cell_type": "markdown",
   "id": "53744db32ff824ca",
   "metadata": {},
   "source": [
    "How does the curve fit the experimental data? Is it a good fit? Why or why not?"
   ]
  }
 ],
 "metadata": {
  "kernelspec": {
   "display_name": "Python 3",
   "language": "python",
   "name": "python3"
  },
  "language_info": {
   "codemirror_mode": {
    "name": "ipython",
    "version": 3
   },
   "file_extension": ".py",
   "mimetype": "text/x-python",
   "name": "python",
   "nbconvert_exporter": "python",
   "pygments_lexer": "ipython3",
   "version": "3.10.9"
  }
 },
 "nbformat": 4,
 "nbformat_minor": 5
}