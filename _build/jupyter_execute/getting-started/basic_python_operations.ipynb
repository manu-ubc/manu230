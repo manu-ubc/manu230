{
 "cells": [
  {
   "cell_type": "markdown",
   "id": "bd76ba07-bb97-41e2-be2d-6c407f74b16d",
   "metadata": {},
   "source": [
    " # Jupyter and Python"
   ]
  },
  {
   "cell_type": "markdown",
   "id": "6f82db6647b81cdd",
   "metadata": {},
   "source": [
    "## Accessing Python and Jupyter Notebooks\n",
    "\n",
    "Jupyter Notebooks are interactive, web-based environments that allow you to write and execute Python code alongside text, visualizations, and other rich media. They are widely used in data science, education, and research because they enable users to document workflows, perform calculations, and visualize results in a single, coherent document. Jupyter Notebooks support Python and other programming languages, making them a versatile tool for exploring and analyzing data.\n",
    "\n",
    "You can access \"on the cloud\" via the Syzygy website: https://ubc.syzygy.ca/ (Login using your CWL)\n",
    "\n",
    "(or)\n",
    "\n",
    "You can create a Google Colab notebook. https://colab.research.google.com/ They work just like other google offerings like sheets, docs, etc. You can also launch this jupyter notebook on colab by clicking on the 'Launch' Icon (Spaceship icon, top right) and click on Colab.\n",
    "\n",
    "(or)\n",
    "\n",
    "Install it on your PC locally using miniconda: https://docs.conda.io/projects/miniconda/en/latest/miniconda-install.htm (Requires a lot more setup)\n"
   ]
  },
  {
   "cell_type": "markdown",
   "id": "293ea642-e601-48a3-a4ee-e78d9d44db7b",
   "metadata": {},
   "source": [
    "## Some jupyter Notebook shortcuts\n",
    "\n",
    "Adding a cell above the current one: 'a'\n",
    "\n",
    "Adding a cell below the current one: 'b'\n",
    "\n",
    "Delete cell entirely: 'd,d' (press d twice)\n",
    "\n",
    "To execute/run a cell: Ctrl + Enter\n",
    "\n",
    "To execute/run a cell and move to the next one: Shift + enter\n",
    "\n",
    "Each cell has a type associated with it: \"Code\", \"Markdown\", \"Raw\""
   ]
  },
  {
   "cell_type": "markdown",
   "id": "79e222ab-5989-4610-9853-fdff39dc4de4",
   "metadata": {},
   "source": [
    "## Import libraries\n",
    "Libraries in Python are collections of pre-written code that provide functionality for specific tasks or domains. They are essential tools for both beginners and advanced Python users because they save time, reduce the need to write code from scratch, and simplify complex tasks.\n",
    "\n",
    "### Numpy\n",
    "NumPy (Numerical Python) is a library used for numerical computations. It is powerful for working with arrays, matrices, and mathematical functions.\n",
    "\n",
    "### Matplotlib\n",
    " Matplotlib is a library for creating static, interactive, and animated visualizations in Python. It allows you to create a variety of plots like lines, bars, and even contour or surface plots.\n"
   ]
  },
  {
   "cell_type": "code",
   "execution_count": 1,
   "id": "545dbbaf-da51-4ea8-864a-2fc512b8cf23",
   "metadata": {
    "ExecuteTime": {
     "end_time": "2025-01-08T00:34:08.835104Z",
     "start_time": "2025-01-08T00:34:06.638788Z"
    }
   },
   "outputs": [],
   "source": [
    "import numpy as np\n",
    "import matplotlib.pyplot as plt\n",
    "from jupyter_core.paths import jupyter_config_dir"
   ]
  },
  {
   "cell_type": "markdown",
   "id": "b9b2ad8d-7670-4c0f-bc88-68406bfc4003",
   "metadata": {},
   "source": [
    "## Python Basics\n",
    "<b>Variables</b>: Variables are placeholders used to store information or data in a program. For example, in manufacturing, you might use variables to represent parameters like injection pressure, mold temperature, or tensile strength. They allow you to work with data programmatically.\n",
    "\n",
    "<b>Data Types</b>: Data types define the kind of data that can be stored in a variable. Common data types in Python include:\n",
    "   * Strings (`str`): Represent text, e.g., `\"Polypropylene\"`.\n",
    "   * Integers (`int`): Represent whole numbers, e.g., `100`.\n",
    "   * Floats (`float`): Represent decimal numbers, e.g., `80.5`.\n",
    "   * Booleans (`bool`): Represent `True` or `False` values.\n",
    "\n",
    "Understanding variables and data types is crucial for defining and manipulating manufacturing parameters effectively in Python.\n"
   ]
  },
  {
   "cell_type": "markdown",
   "id": "8168ab6475b976e2",
   "metadata": {},
   "source": [
    "### Example: Defining Variables\n",
    "#### Example context: Injection Molding Process"
   ]
  },
  {
   "cell_type": "code",
   "execution_count": 2,
   "id": "279d7921707d5b6e",
   "metadata": {
    "ExecuteTime": {
     "end_time": "2025-01-14T23:21:41.303262Z",
     "start_time": "2025-01-14T23:21:41.279385Z"
    }
   },
   "outputs": [],
   "source": [
    "material = \"Polypropylene\"\n",
    "mold_temperature = 80  # in Celsius\n",
    "injection_pressure = 100  # in MPa\n",
    "cycle_time = 30  # in seconds"
   ]
  },
  {
   "cell_type": "code",
   "execution_count": 3,
   "id": "4200ff6b-4c55-4907-bf80-fdd81c46480a",
   "metadata": {
    "ExecuteTime": {
     "end_time": "2025-01-14T23:21:43.044525Z",
     "start_time": "2025-01-14T23:21:43.027977Z"
    },
    "editable": true,
    "slideshow": {
     "slide_type": ""
    },
    "tags": []
   },
   "outputs": [
    {
     "name": "stdout",
     "output_type": "stream",
     "text": [
      "Material: Polypropylene\n",
      "Mold Temperature: 80 °C\n",
      "Injection Pressure: 100 MPa\n",
      "Cycle Time: 30 seconds\n"
     ]
    }
   ],
   "source": [
    "# The print command allows you to display strings and variable values\n",
    "print(f\"Material: {material}\")\n",
    "print(f\"Mold Temperature: {mold_temperature} °C\")\n",
    "print(f\"Injection Pressure: {injection_pressure} MPa\")\n",
    "print(f\"Cycle Time: {cycle_time} seconds\")"
   ]
  },
  {
   "cell_type": "code",
   "execution_count": 4,
   "id": "8a8ac27fcb19dca5",
   "metadata": {
    "ExecuteTime": {
     "end_time": "2025-01-14T23:21:44.444748Z",
     "start_time": "2025-01-14T23:21:44.436470Z"
    }
   },
   "outputs": [
    {
     "name": "stdout",
     "output_type": "stream",
     "text": [
      "Total Production Time: 300 seconds\n"
     ]
    }
   ],
   "source": [
    "# You can also perform operations on variables\n",
    "total_production_time = 10 * cycle_time  # in seconds\n",
    "print(f\"Total Production Time: {total_production_time} seconds\")"
   ]
  },
  {
   "cell_type": "markdown",
   "id": "a1090abe555191e7",
   "metadata": {},
   "source": [
    "\n",
    "Other simple operations are exponentiation, addition, subtraction, multiplication, division, and modulus"
   ]
  },
  {
   "cell_type": "code",
   "execution_count": 5,
   "id": "a432dc4852b84f8a",
   "metadata": {},
   "outputs": [
    {
     "name": "stdout",
     "output_type": "stream",
     "text": [
      "Root Mean Square Injection Pressure: 100.0 MPa\n"
     ]
    }
   ],
   "source": [
    "# Calculate the root mean square of the injection pressure\n",
    "rms_injection_pressure = np.sqrt(injection_pressure**2)\n",
    "print(f\"Root Mean Square Injection Pressure: {rms_injection_pressure} MPa\")"
   ]
  },
  {
   "cell_type": "markdown",
   "id": "749990b09f9f145c",
   "metadata": {},
   "source": [
    "## Control Structures\n",
    "### Conditional statements\n",
    "Conditional statements allow you to execute certain blocks of code based on specific conditions.\n",
    "#### Example context: Vacuum Infusion of Composites\n",
    "If you had data from an electronic vaccuum level sensor you could ensure a stable vacuum and flag when the pressure is above that level."
   ]
  },
  {
   "cell_type": "code",
   "execution_count": 6,
   "id": "13ea679e1cc4cd0",
   "metadata": {
    "ExecuteTime": {
     "end_time": "2025-01-08T00:15:08.171983Z",
     "start_time": "2025-01-08T00:15:08.162422Z"
    }
   },
   "outputs": [
    {
     "name": "stdout",
     "output_type": "stream",
     "text": [
      "Warning: Vacuum level is below the target threshold. Check for leaks.\n"
     ]
    }
   ],
   "source": [
    "vacuum_level = -0.95  # in bar\n",
    "target_vacuum = -0.9\n",
    "if vacuum_level < target_vacuum:\n",
    "    print(\"Warning: Vacuum level is below the target threshold. Check for leaks.\")\n",
    "else:\n",
    "    print(\"Vacuum level is adequate for infusion.\")"
   ]
  },
  {
   "cell_type": "markdown",
   "id": "1599625ab302cb69",
   "metadata": {},
   "source": [
    "### Loops\n",
    "Loops allow you to repeat a block of code multiple times, which is useful for iterating over data or performing repetitive tasks."
   ]
  },
  {
   "cell_type": "code",
   "execution_count": 7,
   "id": "f0ed4249-aebd-4433-aee7-f11e73b38d5f",
   "metadata": {
    "ExecuteTime": {
     "end_time": "2025-01-08T00:18:20.653899Z",
     "start_time": "2025-01-08T00:18:20.647885Z"
    },
    "editable": true,
    "slideshow": {
     "slide_type": ""
    },
    "tags": []
   },
   "outputs": [
    {
     "name": "stdout",
     "output_type": "stream",
     "text": [
      "Station 1: Temperature = 200 °C (Within Limits)\n",
      "Station 2: Temperature = 205 °C (Within Limits)\n",
      "Station 3: Temperature = 210 °C (Within Limits)\n",
      "Station 4: Temperature = 215 °C (Within Limits)\n",
      "Station 5: Temperature = 220 °C (Within Limits)\n",
      "Station 6: Temperature = 225 °C (Above Threshold)\n"
     ]
    }
   ],
   "source": [
    "production_temperatures = [200, 205, 210, 215, 220, 225]  # in Celsius\n",
    "threshold_temperature = 220\n",
    "for i, temp in enumerate(production_temperatures, start=1):\n",
    "    if temp > threshold_temperature:\n",
    "        print(f\"Station {i}: Temperature = {temp} °C (Above Threshold)\")\n",
    "    else:\n",
    "        print(f\"Station {i}: Temperature = {temp} °C (Within Limits)\")"
   ]
  },
  {
   "cell_type": "markdown",
   "id": "db353a76a5f4287c",
   "metadata": {},
   "source": [
    "### Functions\n",
    "Functions are reusable blocks of code designed to perform a specific task. They help make code modular and easier to understand.\n",
    "#### Example context: Cooling in Injection Molding\n",
    "Cooling rate depends on difference between mold and part temperature at the interface and the cycle time."
   ]
  },
  {
   "cell_type": "code",
   "execution_count": 8,
   "id": "5e71069b0ae637ea",
   "metadata": {
    "ExecuteTime": {
     "end_time": "2025-01-08T00:20:14.716094Z",
     "start_time": "2025-01-08T00:20:14.668654Z"
    }
   },
   "outputs": [
    {
     "name": "stdout",
     "output_type": "stream",
     "text": [
      "Cooling rate: 1.00 °C/s\n"
     ]
    }
   ],
   "source": [
    "def calculate_cooling_rate(mold_temp, part_temp, cycle_time):\n",
    "    return (mold_temp - part_temp) / cycle_time\n",
    "\n",
    "part_temp = 50  # in Celsius\n",
    "cooling_rate = calculate_cooling_rate(mold_temperature, part_temp, cycle_time)\n",
    "print(f\"Cooling rate: {cooling_rate:.2f} °C/s\")"
   ]
  },
  {
   "cell_type": "markdown",
   "id": "d9d2de94-9f3f-4343-9124-c399af104c1c",
   "metadata": {},
   "source": [
    "## Plotting using `matplotlib` package\n",
    "Example context: Tensile Test Data\n",
    "| Stress (MPa)   | Strain    |\n",
    "| :--- | ---: |\n",
    "| 0    | 0.0    |\n",
    "| 50    | 0.1    |\n",
    "| 100    | 0.2    |\n",
    "| 150    | 0.3    |\n",
    "| 180    | 0.4    |\n",
    "| 190    | 0.5    |\n",
    "| 185    | 0.6    |\n"
   ]
  },
  {
   "cell_type": "code",
   "execution_count": 9,
   "id": "46dd11c7-fc8f-475a-bb10-9d77ac5463fd",
   "metadata": {
    "ExecuteTime": {
     "end_time": "2025-01-08T00:34:16.247063Z",
     "start_time": "2025-01-08T00:34:16.218061Z"
    },
    "editable": true,
    "slideshow": {
     "slide_type": ""
    },
    "tags": []
   },
   "outputs": [
    {
     "name": "stdout",
     "output_type": "stream",
     "text": [
      "Strain (%): [0.  0.1 0.2 0.3 0.4 0.5 0.6]\n",
      "Stress (MPa): [  0  50 100 150 180 190 185]\n"
     ]
    }
   ],
   "source": [
    "strain = np.array([0.0, 0.1, 0.2, 0.3, 0.4, 0.5, 0.6])\n",
    "stress = np.array([0, 50, 100, 150, 180, 190, 185])\n",
    "\n",
    "print(\"Strain (%):\", strain)\n",
    "print(\"Stress (MPa):\", stress)"
   ]
  },
  {
   "cell_type": "markdown",
   "id": "812686eb364af0e1",
   "metadata": {},
   "source": [
    "Let's plot the results!"
   ]
  },
  {
   "cell_type": "code",
   "execution_count": 10,
   "id": "a8b5ba6bce5819a7",
   "metadata": {
    "ExecuteTime": {
     "end_time": "2025-01-08T00:35:25.705789Z",
     "start_time": "2025-01-08T00:35:24.669214Z"
    }
   },
   "outputs": [
    {
     "name": "stdout",
     "output_type": "stream",
     "text": [
      "\n",
      "=== Visualization ===\n"
     ]
    },
    {
     "data": {
      "image/png": "[encoded data removed]",
      "text/plain": [
       "<Figure size 800x500 with 1 Axes>"
      ]
     },
     "metadata": {},
     "output_type": "display_data"
    }
   ],
   "source": [
    "## Plotting\n",
    "print(\"\\n=== Visualization ===\")\n",
    "plt.figure(figsize=(8, 5))\n",
    "plt.plot(strain, stress, marker='o', color='r')\n",
    "plt.title(\"Stress vs. Strain in Tensile Test\")\n",
    "plt.xlabel(\"Strain (%)\")\n",
    "plt.ylabel(\"Stress (MPa)\")\n",
    "plt.grid(True)\n",
    "plt.show()"
   ]
  },
  {
   "cell_type": "markdown",
   "id": "4e91464f5775b7fc",
   "metadata": {},
   "source": [
    "Additional exercise: Can you calculate the Young's modulus for this material using Python?"
   ]
  },
  {
   "cell_type": "markdown",
   "id": "3d4392a617b7629e",
   "metadata": {},
   "source": [
    "## Coding and Generative AI\n",
    "\n",
    "You can use generative AI tools, such as coding assistants, to enhance your Python skills by generating code snippets, debugging, and exploring new concepts. These tools are especially helpful when you’re stuck on a problem or learning new techniques, as they can provide instant examples and solutions.\n",
    "\n",
    "However, to make the most of this technology, it’s crucial to actively engage with the code the AI produces. Don’t just copy and paste—review the code to understand how it works, why it was written that way, and how it applies to your problem. Experiment by modifying the code and addressing any errors or unexpected behaviors.\n",
    "\n",
    "For example, you could prompt the AI with, “Write a Python function to calculate the factorial of a number using a loop,” and study the generated code. Try tweaking it, such as changing the loop type or adding error handling for invalid inputs. This hands-on process ensures you’re not just using AI as a crutch but actively learning and developing your own problem-solving skills in Python."
   ]
  }
 ],
 "metadata": {
  "kernelspec": {
   "display_name": "Python 3 (ipykernel)",
   "language": "python",
   "name": "python3"
  },
  "language_info": {
   "codemirror_mode": {
    "name": "ipython",
    "version": 3
   },
   "file_extension": ".py",
   "mimetype": "text/x-python",
   "name": "python",
   "nbconvert_exporter": "python",
   "pygments_lexer": "ipython3",
   "version": "3.11.7"
  }
 },
 "nbformat": 4,
 "nbformat_minor": 5
}