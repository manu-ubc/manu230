{
 "cells": [
  {
   "attachments": {},
   "cell_type": "markdown",
   "id": "97e97c16-8e1e-42f5-9f3d-fac793b88b18",
   "metadata": {},
   "source": [
    "# Vacuum Infusion\n",
    "\n",
    "The vacuum infusion process involves drawing liquid resin through a fiber reinforcement or ‘preform’ that is contained within a closed mold/vacuum bag. The viscosity of the resin, vacuum level (pressure) and permeability (ease of flow through a porous medium) of the fibre all effect how quickly the resin saturates the fibre.\n",
    "\n",
    "This notebook is intended to support students with completing the MANU 230 lab session on vacuum infusion. Snippets of code can be copy-pasted into student's code and modified as required. \n",
    "\n",
    "In the lab session, students use the vacuum infusion process to create a glass fiber/epoxy composite panel, collect resin flow front position vs time and use it to calculate the permeability of the fibre. This Jupyter Notebook will help explain the theory behind this while assisting with the calculations. \n",
    "\n",
    "Students may also benefit from reviewing this website to learn more about this process and analysis: https://compositeskn.org/KPC/A290 "
   ]
  },
  {
   "cell_type": "markdown",
   "id": "ac89ccb8-2510-492a-af4b-b4ad1e1e6ffb",
   "metadata": {},
   "source": [
    "## Theory\n",
    "\n",
    "Before analyzing the data, a derivation of an equation to calculate the time required to infuse a laminate is needed. Please refer to the figure below for an explanation of the variables <br>\n",
    "\n",
    "```{figure} DarcyLaw.png\n",
    "---\n",
    "height: 400px\n",
    "name: DarcyLaw-fig\n",
    "---\n",
    "Schematic of Darcy's Law\n",
    "```\n"
   ]
  },
  {
   "attachments": {},
   "cell_type": "markdown",
   "id": "333b5d64-56c8-4423-9839-1a5664bbee16",
   "metadata": {},
   "source": [
    "Flow through porous media is governed by Darcy’s law:\n",
    "\n",
    "$Q = -\\frac{KA}{\\mu}\\frac{dP}{dx}$ ...(1)\n",
    "\n",
    "Where:<br>\n",
    "$Q$ is the volume flow rate <br>\n",
    "$K$ is the preform permeability<br>\n",
    "$\\mu$ is the resin viscosity<br>\n",
    "$A$ is the area the resin is entering/flowing (edge of hte preform)<br>\n",
    "$P$ is the resin pressure<br>\n",
    "$x$ is the distance across the preform (distance across the pressure drop)<br>\n",
    "\n",
    "Superficial velocity, $ v_{s}$  is defined as:<br>\n",
    "$v_{s}=v\\frac{A_{flow}}{A_{mould}}$ ...(2)\n",
    "\n",
    "Where: <br>\n",
    "$v$ is the seepage velocity of actual velocity <br>\n",
    "$\\phi$ is the porosity $(\\phi = 1-V_f)$, which is due to the fact that the fibre preform is porous and the actual volume the resin flows through is not the cross section of the laminate. <br>\n",
    "<br>\n",
    "\n",
    "Now the volume flow rate, $Q$ and laminate cross sectional area, $A$ can be related with: <br>\n",
    "$Q=v_sA$ ...(3)\n",
    "\n",
    "Equation (3) can be substituted into (1) to get (note that $A$ cancels out): <br>\n",
    "$v_s = -\\frac{K}{\\mu}\\frac{dP}{dx}$ ...(4)\n",
    "\n",
    "Equation (2) can be substituted into (4) to get: <br>\n",
    "$v\\phi = -\\frac{K}{\\mu}\\frac{dP}{dx}$ ...(5)\n",
    "\n",
    "By definition, $v=dx/dt$, which can be substituted into Equation (5): <br>\n",
    "$\\phi\\frac{dx}{dt} = -\\frac{K}{\\mu}\\frac{dP}{dx}$ ...(6)\n",
    "\n",
    "Through experimentation, it is known that there is a linear pressure gradient from the inlet to the resin flow front, therefore: <br>\n",
    "$\\frac{dP}{dx}=-\\frac{(P_0-Px)}{x}$ ...(7)\n",
    "\n",
    "Where $P_0$ and $P_x$ are the pressures at the inlet and flow front, respectively. <br>\n",
    "\n",
    "Now Equation (7) can be substituted into Equation (6) to get: <br>\n",
    "$\\phi\\frac{dx}{dt} = \\frac{K}{\\mu}\\frac{(P_0-P_x)}{x}$ ...(8)\n",
    "\n",
    "Equation (8) can be rearranged and integrated to solve for time: <br>\n",
    "$\\int_{0}^{x}xdx = \\frac{K}{\\mu\\phi}{(P_0-P_x)}\\int_{0}^{t}dt$\n",
    "\n",
    "$\\frac{x^2}{2}=\\frac{K}{\\mu\\phi}(P_0-P_x)t$\n",
    "\n",
    "$t=\\frac{x^2\\mu\\phi}{2K(P_0-P_x)}$ ...(9) <br>\n",
    "\n",
    "Equation (9) can be used to calculate the time required to fill a rectangular laminate and can be useful during design. However, in this lab, the objective is to determine the value of permeability, $K$. If one plots flow front position squared vs time, the slope of that line can be substitued into Equation (9) to get: <br>\n",
    "\n",
    "$K=\\frac{\\mu\\phi}{2(P_0-P_x)}m$ ...(10) <br>\n",
    "\n"
   ]
  },
  {
   "cell_type": "markdown",
   "id": "30cddb3f-4d94-456b-ad5d-34a69341e5c6",
   "metadata": {},
   "source": [
    "## Procedure\n",
    "\n",
    "Please follow the lab manual provided by the instructor. This page is intended to supplement the provided material, not replace it. <br>\n",
    "\n",
    "In the lab students will collect flow front position (distance from inlet) vs time to do the analysis, which involves the following steps:\n",
    "1) Save the data as a CSV file and load it into the Jupyter notebook as a pandas dataframe\n",
    "2) Create a column of 'distance squared' by squaring the distance values\n",
    "3) Plot both distance vs time and distance squared vs time to inspect the data\n",
    "4) Find the slope of distance squared vs time by fitting a line to the data\n",
    "5) Define the parameters of the experiment (material properties, pressure, etc)\n",
    "6) calculate the fibre volume fraction and porosity, $\\phi$\n",
    "7) Use the equation derived above to calculate permeability\n",
    "\n",
    "The code blocks below will help walk through these calcualtions. Note, they can also be done with Excel, Matlab, other software, or manually if you prefer."
   ]
  },
  {
   "cell_type": "markdown",
   "id": "68002c27-74bd-498b-8353-c88e703f66e2",
   "metadata": {},
   "source": [
    "### 0. Import packages\n",
    "\n",
    "This example uses pandas, numpy, and matplotlib. The first step is to import them. "
   ]
  },
  {
   "cell_type": "code",
   "execution_count": 1,
   "id": "f200d662-d744-4fa6-ba21-a38116e2b6cd",
   "metadata": {},
   "outputs": [],
   "source": [
    "#import packages\n",
    "\n",
    "import pandas as pd\n",
    "import numpy as np\n",
    "import matplotlib.pyplot as plt"
   ]
  },
  {
   "cell_type": "markdown",
   "id": "b350818a-abf2-4c9d-b989-a1f8ed989ef0",
   "metadata": {},
   "source": [
    "### 1. Load data file\n",
    "\n",
    "Ensure that your file is in the correct CSV format and saved in the working directory. Note, the data included here is just for demonstration purposes and should not be used for your analysis. "
   ]
  },
  {
   "cell_type": "code",
   "execution_count": 2,
   "id": "9d0d76c6-a0ce-4d01-8044-a581a599f7e6",
   "metadata": {},
   "outputs": [
    {
     "data": {
      "text/html": [
       "<div>\n",
       "<style scoped>\n",
       "    .dataframe tbody tr th:only-of-type {\n",
       "        vertical-align: middle;\n",
       "    }\n",
       "\n",
       "    .dataframe tbody tr th {\n",
       "        vertical-align: top;\n",
       "    }\n",
       "\n",
       "    .dataframe thead th {\n",
       "        text-align: right;\n",
       "    }\n",
       "</style>\n",
       "<table border=\"1\" class=\"dataframe\">\n",
       "  <thead>\n",
       "    <tr style=\"text-align: right;\">\n",
       "      <th></th>\n",
       "      <th>Time (s)</th>\n",
       "      <th>Distance (mm)</th>\n",
       "    </tr>\n",
       "  </thead>\n",
       "  <tbody>\n",
       "    <tr>\n",
       "      <th>0</th>\n",
       "      <td>0</td>\n",
       "      <td>0</td>\n",
       "    </tr>\n",
       "    <tr>\n",
       "      <th>1</th>\n",
       "      <td>51</td>\n",
       "      <td>25</td>\n",
       "    </tr>\n",
       "    <tr>\n",
       "      <th>2</th>\n",
       "      <td>188</td>\n",
       "      <td>50</td>\n",
       "    </tr>\n",
       "    <tr>\n",
       "      <th>3</th>\n",
       "      <td>407</td>\n",
       "      <td>75</td>\n",
       "    </tr>\n",
       "    <tr>\n",
       "      <th>4</th>\n",
       "      <td>649</td>\n",
       "      <td>100</td>\n",
       "    </tr>\n",
       "    <tr>\n",
       "      <th>5</th>\n",
       "      <td>1036</td>\n",
       "      <td>125</td>\n",
       "    </tr>\n",
       "    <tr>\n",
       "      <th>6</th>\n",
       "      <td>1485</td>\n",
       "      <td>150</td>\n",
       "    </tr>\n",
       "    <tr>\n",
       "      <th>7</th>\n",
       "      <td>2166</td>\n",
       "      <td>175</td>\n",
       "    </tr>\n",
       "    <tr>\n",
       "      <th>8</th>\n",
       "      <td>2848</td>\n",
       "      <td>200</td>\n",
       "    </tr>\n",
       "    <tr>\n",
       "      <th>9</th>\n",
       "      <td>3725</td>\n",
       "      <td>225</td>\n",
       "    </tr>\n",
       "    <tr>\n",
       "      <th>10</th>\n",
       "      <td>5027</td>\n",
       "      <td>250</td>\n",
       "    </tr>\n",
       "    <tr>\n",
       "      <th>11</th>\n",
       "      <td>6398</td>\n",
       "      <td>275</td>\n",
       "    </tr>\n",
       "    <tr>\n",
       "      <th>12</th>\n",
       "      <td>7200</td>\n",
       "      <td>300</td>\n",
       "    </tr>\n",
       "  </tbody>\n",
       "</table>\n",
       "</div>"
      ],
      "text/plain": [
       "    Time (s)  Distance (mm)\n",
       "0          0              0\n",
       "1         51             25\n",
       "2        188             50\n",
       "3        407             75\n",
       "4        649            100\n",
       "5       1036            125\n",
       "6       1485            150\n",
       "7       2166            175\n",
       "8       2848            200\n",
       "9       3725            225\n",
       "10      5027            250\n",
       "11      6398            275\n",
       "12      7200            300"
      ]
     },
     "execution_count": 2,
     "metadata": {},
     "output_type": "execute_result"
    }
   ],
   "source": [
    "# Load the data file (e.g., comma-delimited or tab-delimited)\n",
    "df = pd.read_csv(\"InfusionData.txt\", delimiter=\"\\t\")  # Change delimiter as needed\n",
    "\n",
    "# Display the data\n",
    "df"
   ]
  },
  {
   "cell_type": "markdown",
   "id": "dbef6ac1-0e52-4fa9-8c70-537e15686c8e",
   "metadata": {},
   "source": [
    "### 2. Create a column of distance squared\n",
    "Create a column of 'distance squared' by squaring the distance values. Be sure to use appropriate units. If your data set in in different units you can convert them by multiplying the column by the appropriate conversion factor similarly to how you convert distance to distance squared.\n"
   ]
  },
  {
   "cell_type": "code",
   "execution_count": 3,
   "id": "09348ffe-f196-4292-9b6f-0cdb358476d5",
   "metadata": {},
   "outputs": [
    {
     "data": {
      "text/html": [
       "<div>\n",
       "<style scoped>\n",
       "    .dataframe tbody tr th:only-of-type {\n",
       "        vertical-align: middle;\n",
       "    }\n",
       "\n",
       "    .dataframe tbody tr th {\n",
       "        vertical-align: top;\n",
       "    }\n",
       "\n",
       "    .dataframe thead th {\n",
       "        text-align: right;\n",
       "    }\n",
       "</style>\n",
       "<table border=\"1\" class=\"dataframe\">\n",
       "  <thead>\n",
       "    <tr style=\"text-align: right;\">\n",
       "      <th></th>\n",
       "      <th>Time (s)</th>\n",
       "      <th>Distance (mm)</th>\n",
       "      <th>Distance (m)</th>\n",
       "      <th>Distance Squared (m^2)</th>\n",
       "    </tr>\n",
       "  </thead>\n",
       "  <tbody>\n",
       "    <tr>\n",
       "      <th>0</th>\n",
       "      <td>0</td>\n",
       "      <td>0</td>\n",
       "      <td>0.000</td>\n",
       "      <td>0.000000</td>\n",
       "    </tr>\n",
       "    <tr>\n",
       "      <th>1</th>\n",
       "      <td>51</td>\n",
       "      <td>25</td>\n",
       "      <td>0.025</td>\n",
       "      <td>0.000625</td>\n",
       "    </tr>\n",
       "    <tr>\n",
       "      <th>2</th>\n",
       "      <td>188</td>\n",
       "      <td>50</td>\n",
       "      <td>0.050</td>\n",
       "      <td>0.002500</td>\n",
       "    </tr>\n",
       "    <tr>\n",
       "      <th>3</th>\n",
       "      <td>407</td>\n",
       "      <td>75</td>\n",
       "      <td>0.075</td>\n",
       "      <td>0.005625</td>\n",
       "    </tr>\n",
       "    <tr>\n",
       "      <th>4</th>\n",
       "      <td>649</td>\n",
       "      <td>100</td>\n",
       "      <td>0.100</td>\n",
       "      <td>0.010000</td>\n",
       "    </tr>\n",
       "    <tr>\n",
       "      <th>5</th>\n",
       "      <td>1036</td>\n",
       "      <td>125</td>\n",
       "      <td>0.125</td>\n",
       "      <td>0.015625</td>\n",
       "    </tr>\n",
       "    <tr>\n",
       "      <th>6</th>\n",
       "      <td>1485</td>\n",
       "      <td>150</td>\n",
       "      <td>0.150</td>\n",
       "      <td>0.022500</td>\n",
       "    </tr>\n",
       "    <tr>\n",
       "      <th>7</th>\n",
       "      <td>2166</td>\n",
       "      <td>175</td>\n",
       "      <td>0.175</td>\n",
       "      <td>0.030625</td>\n",
       "    </tr>\n",
       "    <tr>\n",
       "      <th>8</th>\n",
       "      <td>2848</td>\n",
       "      <td>200</td>\n",
       "      <td>0.200</td>\n",
       "      <td>0.040000</td>\n",
       "    </tr>\n",
       "    <tr>\n",
       "      <th>9</th>\n",
       "      <td>3725</td>\n",
       "      <td>225</td>\n",
       "      <td>0.225</td>\n",
       "      <td>0.050625</td>\n",
       "    </tr>\n",
       "    <tr>\n",
       "      <th>10</th>\n",
       "      <td>5027</td>\n",
       "      <td>250</td>\n",
       "      <td>0.250</td>\n",
       "      <td>0.062500</td>\n",
       "    </tr>\n",
       "    <tr>\n",
       "      <th>11</th>\n",
       "      <td>6398</td>\n",
       "      <td>275</td>\n",
       "      <td>0.275</td>\n",
       "      <td>0.075625</td>\n",
       "    </tr>\n",
       "    <tr>\n",
       "      <th>12</th>\n",
       "      <td>7200</td>\n",
       "      <td>300</td>\n",
       "      <td>0.300</td>\n",
       "      <td>0.090000</td>\n",
       "    </tr>\n",
       "  </tbody>\n",
       "</table>\n",
       "</div>"
      ],
      "text/plain": [
       "    Time (s)  Distance (mm)  Distance (m)  Distance Squared (m^2)\n",
       "0          0              0         0.000                0.000000\n",
       "1         51             25         0.025                0.000625\n",
       "2        188             50         0.050                0.002500\n",
       "3        407             75         0.075                0.005625\n",
       "4        649            100         0.100                0.010000\n",
       "5       1036            125         0.125                0.015625\n",
       "6       1485            150         0.150                0.022500\n",
       "7       2166            175         0.175                0.030625\n",
       "8       2848            200         0.200                0.040000\n",
       "9       3725            225         0.225                0.050625\n",
       "10      5027            250         0.250                0.062500\n",
       "11      6398            275         0.275                0.075625\n",
       "12      7200            300         0.300                0.090000"
      ]
     },
     "execution_count": 3,
     "metadata": {},
     "output_type": "execute_result"
    }
   ],
   "source": [
    "# Create a column of distance squared\n",
    "df[\"Distance (m)\"] = df[\"Distance (mm)\"] / 1000\n",
    "df[\"Distance Squared (m^2)\"] = df[\"Distance (m)\"] ** 2\n",
    "\n",
    "# Display the data\n",
    "df"
   ]
  },
  {
   "cell_type": "markdown",
   "id": "15fb5d27-0849-46ec-8445-b3428bd0e3c3",
   "metadata": {},
   "source": [
    "### 3. Plot the data"
   ]
  },
  {
   "cell_type": "code",
   "execution_count": 4,
   "id": "0bb81117-65e2-403a-8fd9-d92fb34fc02b",
   "metadata": {},
   "outputs": [
    {
     "data": {
      "image/png": "[encoded data removed]",
      "text/plain": [
       "<Figure size 640x480 with 1 Axes>"
      ]
     },
     "metadata": {},
     "output_type": "display_data"
    }
   ],
   "source": [
    "# Plot the DataFrame\n",
    "df.plot(x=\"Time (s)\", y=[\"Distance Squared (m^2)\"], kind=\"line\")\n",
    "\n",
    "# Show the plot\n",
    "plt.title(\"Flow front distance squared vs time\")\n",
    "plt.xlabel(\"Time (s)\")\n",
    "plt.ylabel(\"Flow front distance (m^2)\")\n",
    "plt.grid()\n",
    "plt.show()"
   ]
  },
  {
   "cell_type": "markdown",
   "id": "129e4441-2dc2-426a-a8d9-3fcf687762e6",
   "metadata": {},
   "source": [
    "### 4. Find the slope of distance squared vs time\n",
    "Fit a linear line to the distance squared vs time data"
   ]
  },
  {
   "cell_type": "code",
   "execution_count": 5,
   "id": "07525c09-8a8b-499f-b6a2-de5db2b13aab",
   "metadata": {},
   "outputs": [
    {
     "name": "stdout",
     "output_type": "stream",
     "text": [
      "Slope: 1.2179597111840875e-05, Intercept: 0.002037704773292418\n"
     ]
    }
   ],
   "source": [
    "# Fit a linear model\n",
    "slope, intercept = np.polyfit(df[\"Time (s)\"], df[\"Distance Squared (m^2)\"], 1)\n",
    "\n",
    "# Print the slope and intercept\n",
    "print(f\"Slope: {slope}, Intercept: {intercept}\")"
   ]
  },
  {
   "cell_type": "markdown",
   "id": "f279370b-aae2-426f-a118-19560c418253",
   "metadata": {},
   "source": [
    "### 5. Define the parameters\n",
    "Define the parameters of the experiment (material properties, pressure, etc.). These should be available in the lab manual and/or obtained during the lab session. "
   ]
  },
  {
   "cell_type": "code",
   "execution_count": 6,
   "id": "3ed5cdb6-9bad-4a41-b1cf-7e05673abef4",
   "metadata": {},
   "outputs": [],
   "source": [
    "#Define material parameters\n",
    "#*keep an eye on units*\n",
    "\n",
    "mu = 0.25 #Pa-S\n",
    "rho_f = 2.66 #g/cm^3\n",
    "AW = 0.02 #g/cm^2\n",
    "n = 8 #plies\n",
    "t = 0.13 #cm\n",
    "delP = 101325 #Pa\n",
    "m = slope\n"
   ]
  },
  {
   "cell_type": "markdown",
   "id": "5b5f1342-688d-42f9-9592-35476175d4eb",
   "metadata": {},
   "source": [
    "### 6. Calculate the fibre volume fraction and porosity\n",
    "Use the equation derived above to calculate permeability"
   ]
  },
  {
   "cell_type": "code",
   "execution_count": 7,
   "id": "482b0e3d-700f-44ab-892a-1904b1f20f0d",
   "metadata": {},
   "outputs": [
    {
     "ename": "NameError",
     "evalue": "name 'vf' is not defined",
     "output_type": "error",
     "traceback": [
      "\u001b[1;31m---------------------------------------------------------------------------\u001b[0m",
      "\u001b[1;31mNameError\u001b[0m                                 Traceback (most recent call last)",
      "Cell \u001b[1;32mIn[7], line 5\u001b[0m\n\u001b[0;32m      1\u001b[0m \u001b[38;5;66;03m#Calculate fibre volume fraction and phi\u001b[39;00m\n\u001b[0;32m      2\u001b[0m \u001b[38;5;66;03m# vf = #input equation to calculate Vf based on FAW, t, fibre density\u001b[39;00m\n\u001b[0;32m      3\u001b[0m \u001b[38;5;66;03m# phi = #input equation for porosity\u001b[39;00m\n\u001b[1;32m----> 5\u001b[0m \u001b[38;5;28mprint\u001b[39m(\u001b[38;5;124m\"\u001b[39m\u001b[38;5;124mvf =\u001b[39m\u001b[38;5;124m\"\u001b[39m, \u001b[38;5;28mround\u001b[39m(\u001b[43mvf\u001b[49m,\u001b[38;5;241m2\u001b[39m))\n\u001b[0;32m      6\u001b[0m \u001b[38;5;28mprint\u001b[39m(\u001b[38;5;124m\"\u001b[39m\u001b[38;5;124mphi =\u001b[39m\u001b[38;5;124m\"\u001b[39m, \u001b[38;5;28mround\u001b[39m(phi,\u001b[38;5;241m2\u001b[39m))\n",
      "\u001b[1;31mNameError\u001b[0m: name 'vf' is not defined"
     ]
    }
   ],
   "source": [
    "#Calculate fibre volume fraction and phi\n",
    "# vf = #input equation to calculate Vf based on FAW, t, fibre density\n",
    "# phi = #input equation for porosity\n",
    "\n",
    "print(\"vf =\", round(vf,2))\n",
    "print(\"phi =\", round(phi,2))"
   ]
  },
  {
   "cell_type": "markdown",
   "id": "5586d76d-6ba3-40f8-a075-6b4f89f329cd",
   "metadata": {},
   "source": [
    "### 7. Calculate permeability"
   ]
  },
  {
   "cell_type": "code",
   "execution_count": 8,
   "id": "c719c322-c8d5-4478-ad82-9f77ecbb43bd",
   "metadata": {},
   "outputs": [
    {
     "name": "stdout",
     "output_type": "stream",
     "text": [
      "K = 8.07322476670822e-12 m^2\n"
     ]
    }
   ],
   "source": [
    "#Calculate permeability\n",
    "# K = #input equation, refer to Equation (10)\n",
    "\n",
    "print(\"K =\", K, \"m^2\")"
   ]
  },
  {
   "cell_type": "markdown",
   "id": "6b0fdb5b-cd9d-4bb5-91a0-1ebfd7686840",
   "metadata": {},
   "source": [
    "### 8. Report and submit your results\n",
    "Now that you have completed the analysis you can write up your lab report and submit it. If you would like to include the code you used for your calculations then you can include them in the appendix."
   ]
  }
 ],
 "metadata": {
  "kernelspec": {
   "display_name": "Python 3 (ipykernel)",
   "language": "python",
   "name": "python3"
  },
  "language_info": {
   "codemirror_mode": {
    "name": "ipython",
    "version": 3
   },
   "file_extension": ".py",
   "mimetype": "text/x-python",
   "name": "python",
   "nbconvert_exporter": "python",
   "pygments_lexer": "ipython3",
   "version": "3.10.9"
  }
 },
 "nbformat": 4,
 "nbformat_minor": 5
}